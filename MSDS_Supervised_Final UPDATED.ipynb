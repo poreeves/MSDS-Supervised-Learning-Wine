{
  "nbformat": 4,
  "nbformat_minor": 0,
  "metadata": {
    "colab": {
      "provenance": []
    },
    "kernelspec": {
      "name": "python3",
      "display_name": "Python 3"
    },
    "language_info": {
      "name": "python"
    }
  },
  "cells": [
    {
      "cell_type": "markdown",
      "source": [
        "# MSDS Supervised Learning Final Project: Wine Quality Model"
      ],
      "metadata": {
        "id": "DUfo4fsvrbiV"
      }
    },
    {
      "cell_type": "markdown",
      "source": [
        "Nowadays, there are so many options on what to buy, it can be overwhelming. That is too true in the wine industry. With all these options there are bound to be good wine choices, and not so good ones. In this notebook, we will use wine quality data to try and build a model that can predict the quality of the wine."
      ],
      "metadata": {
        "id": "GfIHhUnVRMAi"
      }
    },
    {
      "cell_type": "markdown",
      "source": [
        "I created this notebook in google colab. Before you run the first cell, I recommend you dowload the data set from [Kaggle](https://www.kaggle.com/datasets/yasserh/wine-quality-dataset?resource=download) or git hub [repository](https://github.com/poreeves/MSDS-Supervised-Learning-Wine). You can open this file in google colabs and browse for the file in your downloads. Or if you are using a desktop client to read the notebook just copy the path from your file directly into the pd.read_csv function."
      ],
      "metadata": {
        "id": "JfduhV7ZqYFb"
      }
    },
    {
      "cell_type": "code",
      "execution_count": 2,
      "metadata": {
        "colab": {
          "base_uri": "https://localhost:8080/",
          "height": 73
        },
        "id": "Tb4VXt83jfB3",
        "outputId": "d89dd183-90c1-4b10-df9e-c012a0be11fd"
      },
      "outputs": [
        {
          "output_type": "display_data",
          "data": {
            "text/plain": [
              "<IPython.core.display.HTML object>"
            ],
            "text/html": [
              "\n",
              "     <input type=\"file\" id=\"files-e7270818-e56c-4fad-a3c8-554f592509e3\" name=\"files[]\" multiple disabled\n",
              "        style=\"border:none\" />\n",
              "     <output id=\"result-e7270818-e56c-4fad-a3c8-554f592509e3\">\n",
              "      Upload widget is only available when the cell has been executed in the\n",
              "      current browser session. Please rerun this cell to enable.\n",
              "      </output>\n",
              "      <script>// Copyright 2017 Google LLC\n",
              "//\n",
              "// Licensed under the Apache License, Version 2.0 (the \"License\");\n",
              "// you may not use this file except in compliance with the License.\n",
              "// You may obtain a copy of the License at\n",
              "//\n",
              "//      http://www.apache.org/licenses/LICENSE-2.0\n",
              "//\n",
              "// Unless required by applicable law or agreed to in writing, software\n",
              "// distributed under the License is distributed on an \"AS IS\" BASIS,\n",
              "// WITHOUT WARRANTIES OR CONDITIONS OF ANY KIND, either express or implied.\n",
              "// See the License for the specific language governing permissions and\n",
              "// limitations under the License.\n",
              "\n",
              "/**\n",
              " * @fileoverview Helpers for google.colab Python module.\n",
              " */\n",
              "(function(scope) {\n",
              "function span(text, styleAttributes = {}) {\n",
              "  const element = document.createElement('span');\n",
              "  element.textContent = text;\n",
              "  for (const key of Object.keys(styleAttributes)) {\n",
              "    element.style[key] = styleAttributes[key];\n",
              "  }\n",
              "  return element;\n",
              "}\n",
              "\n",
              "// Max number of bytes which will be uploaded at a time.\n",
              "const MAX_PAYLOAD_SIZE = 100 * 1024;\n",
              "\n",
              "function _uploadFiles(inputId, outputId) {\n",
              "  const steps = uploadFilesStep(inputId, outputId);\n",
              "  const outputElement = document.getElementById(outputId);\n",
              "  // Cache steps on the outputElement to make it available for the next call\n",
              "  // to uploadFilesContinue from Python.\n",
              "  outputElement.steps = steps;\n",
              "\n",
              "  return _uploadFilesContinue(outputId);\n",
              "}\n",
              "\n",
              "// This is roughly an async generator (not supported in the browser yet),\n",
              "// where there are multiple asynchronous steps and the Python side is going\n",
              "// to poll for completion of each step.\n",
              "// This uses a Promise to block the python side on completion of each step,\n",
              "// then passes the result of the previous step as the input to the next step.\n",
              "function _uploadFilesContinue(outputId) {\n",
              "  const outputElement = document.getElementById(outputId);\n",
              "  const steps = outputElement.steps;\n",
              "\n",
              "  const next = steps.next(outputElement.lastPromiseValue);\n",
              "  return Promise.resolve(next.value.promise).then((value) => {\n",
              "    // Cache the last promise value to make it available to the next\n",
              "    // step of the generator.\n",
              "    outputElement.lastPromiseValue = value;\n",
              "    return next.value.response;\n",
              "  });\n",
              "}\n",
              "\n",
              "/**\n",
              " * Generator function which is called between each async step of the upload\n",
              " * process.\n",
              " * @param {string} inputId Element ID of the input file picker element.\n",
              " * @param {string} outputId Element ID of the output display.\n",
              " * @return {!Iterable<!Object>} Iterable of next steps.\n",
              " */\n",
              "function* uploadFilesStep(inputId, outputId) {\n",
              "  const inputElement = document.getElementById(inputId);\n",
              "  inputElement.disabled = false;\n",
              "\n",
              "  const outputElement = document.getElementById(outputId);\n",
              "  outputElement.innerHTML = '';\n",
              "\n",
              "  const pickedPromise = new Promise((resolve) => {\n",
              "    inputElement.addEventListener('change', (e) => {\n",
              "      resolve(e.target.files);\n",
              "    });\n",
              "  });\n",
              "\n",
              "  const cancel = document.createElement('button');\n",
              "  inputElement.parentElement.appendChild(cancel);\n",
              "  cancel.textContent = 'Cancel upload';\n",
              "  const cancelPromise = new Promise((resolve) => {\n",
              "    cancel.onclick = () => {\n",
              "      resolve(null);\n",
              "    };\n",
              "  });\n",
              "\n",
              "  // Wait for the user to pick the files.\n",
              "  const files = yield {\n",
              "    promise: Promise.race([pickedPromise, cancelPromise]),\n",
              "    response: {\n",
              "      action: 'starting',\n",
              "    }\n",
              "  };\n",
              "\n",
              "  cancel.remove();\n",
              "\n",
              "  // Disable the input element since further picks are not allowed.\n",
              "  inputElement.disabled = true;\n",
              "\n",
              "  if (!files) {\n",
              "    return {\n",
              "      response: {\n",
              "        action: 'complete',\n",
              "      }\n",
              "    };\n",
              "  }\n",
              "\n",
              "  for (const file of files) {\n",
              "    const li = document.createElement('li');\n",
              "    li.append(span(file.name, {fontWeight: 'bold'}));\n",
              "    li.append(span(\n",
              "        `(${file.type || 'n/a'}) - ${file.size} bytes, ` +\n",
              "        `last modified: ${\n",
              "            file.lastModifiedDate ? file.lastModifiedDate.toLocaleDateString() :\n",
              "                                    'n/a'} - `));\n",
              "    const percent = span('0% done');\n",
              "    li.appendChild(percent);\n",
              "\n",
              "    outputElement.appendChild(li);\n",
              "\n",
              "    const fileDataPromise = new Promise((resolve) => {\n",
              "      const reader = new FileReader();\n",
              "      reader.onload = (e) => {\n",
              "        resolve(e.target.result);\n",
              "      };\n",
              "      reader.readAsArrayBuffer(file);\n",
              "    });\n",
              "    // Wait for the data to be ready.\n",
              "    let fileData = yield {\n",
              "      promise: fileDataPromise,\n",
              "      response: {\n",
              "        action: 'continue',\n",
              "      }\n",
              "    };\n",
              "\n",
              "    // Use a chunked sending to avoid message size limits. See b/62115660.\n",
              "    let position = 0;\n",
              "    do {\n",
              "      const length = Math.min(fileData.byteLength - position, MAX_PAYLOAD_SIZE);\n",
              "      const chunk = new Uint8Array(fileData, position, length);\n",
              "      position += length;\n",
              "\n",
              "      const base64 = btoa(String.fromCharCode.apply(null, chunk));\n",
              "      yield {\n",
              "        response: {\n",
              "          action: 'append',\n",
              "          file: file.name,\n",
              "          data: base64,\n",
              "        },\n",
              "      };\n",
              "\n",
              "      let percentDone = fileData.byteLength === 0 ?\n",
              "          100 :\n",
              "          Math.round((position / fileData.byteLength) * 100);\n",
              "      percent.textContent = `${percentDone}% done`;\n",
              "\n",
              "    } while (position < fileData.byteLength);\n",
              "  }\n",
              "\n",
              "  // All done.\n",
              "  yield {\n",
              "    response: {\n",
              "      action: 'complete',\n",
              "    }\n",
              "  };\n",
              "}\n",
              "\n",
              "scope.google = scope.google || {};\n",
              "scope.google.colab = scope.google.colab || {};\n",
              "scope.google.colab._files = {\n",
              "  _uploadFiles,\n",
              "  _uploadFilesContinue,\n",
              "};\n",
              "})(self);\n",
              "</script> "
            ]
          },
          "metadata": {}
        },
        {
          "output_type": "stream",
          "name": "stdout",
          "text": [
            "Saving WineQT.csv to WineQT.csv\n"
          ]
        }
      ],
      "source": [
        "from google.colab import files\n",
        "uploaded = files.upload()\n",
        "import pandas as pd\n",
        "import io\n"
      ]
    },
    {
      "cell_type": "code",
      "source": [
        "import pandas as pd\n",
        "import matplotlib.pyplot as plt\n",
        "import numpy as np\n",
        "import math\n",
        "import seaborn as sns\n",
        "from sklearn.model_selection import train_test_split\n",
        "from sklearn import metrics\n",
        "from sklearn.svm import SVC\n",
        "from sklearn.linear_model import LogisticRegression\n",
        "from sklearn.preprocessing import MinMaxScaler\n",
        "import statsmodels.formula.api as smf\n",
        "import statsmodels.api as sm"
      ],
      "metadata": {
        "id": "Ic6ONt_1mBak"
      },
      "execution_count": 3,
      "outputs": []
    },
    {
      "cell_type": "code",
      "source": [
        "#be sure to update the path in the read csv to get the data in!\n",
        "df = pd.read_csv(io.BytesIO(uploaded['WineQT.csv']))\n",
        "df.columns = ['fixed_acidity', 'volatile_acidity', 'citric_acid', 'residual_sugar',\n",
        "       'chlorides', 'free_sulfur_dioxide', 'total_sulfur_dioxide', 'density',\n",
        "       'pH', 'sulphates', 'alcohol', 'quality', 'Id']"
      ],
      "metadata": {
        "id": "XW9vnkE8jw4T"
      },
      "execution_count": 61,
      "outputs": []
    },
    {
      "cell_type": "markdown",
      "source": [
        "## After importing Wine Quality data set, Let's begin Exploratory Data Analysis (EDA)"
      ],
      "metadata": {
        "id": "gtEekB5Gj6V9"
      }
    },
    {
      "cell_type": "markdown",
      "source": [
        "To get a feel for the data set, let's take a look at the features and the row"
      ],
      "metadata": {
        "id": "5Rl4QI64sADt"
      }
    },
    {
      "cell_type": "code",
      "source": [
        "df.head()"
      ],
      "metadata": {
        "id": "1D_49fqTj0yx",
        "colab": {
          "base_uri": "https://localhost:8080/",
          "height": 206
        },
        "outputId": "8103c403-ca0e-4e10-8dda-f9257232e4ff"
      },
      "execution_count": 5,
      "outputs": [
        {
          "output_type": "execute_result",
          "data": {
            "text/plain": [
              "   fixed_acidity  volatile_acidity  citric_acid  residual_sugar  chlorides  \\\n",
              "0            7.4              0.70         0.00             1.9      0.076   \n",
              "1            7.8              0.88         0.00             2.6      0.098   \n",
              "2            7.8              0.76         0.04             2.3      0.092   \n",
              "3           11.2              0.28         0.56             1.9      0.075   \n",
              "4            7.4              0.70         0.00             1.9      0.076   \n",
              "\n",
              "   free_sulfur_dioxide  total_sulfur_dioxide  density    pH  sulphates  \\\n",
              "0                 11.0                  34.0   0.9978  3.51       0.56   \n",
              "1                 25.0                  67.0   0.9968  3.20       0.68   \n",
              "2                 15.0                  54.0   0.9970  3.26       0.65   \n",
              "3                 17.0                  60.0   0.9980  3.16       0.58   \n",
              "4                 11.0                  34.0   0.9978  3.51       0.56   \n",
              "\n",
              "   alcohol  quality  Id  \n",
              "0      9.4        5   0  \n",
              "1      9.8        5   1  \n",
              "2      9.8        5   2  \n",
              "3      9.8        6   3  \n",
              "4      9.4        5   4  "
            ],
            "text/html": [
              "\n",
              "  <div id=\"df-4093d260-98b9-49a9-ab3d-17f4fc9fff8e\" class=\"colab-df-container\">\n",
              "    <div>\n",
              "<style scoped>\n",
              "    .dataframe tbody tr th:only-of-type {\n",
              "        vertical-align: middle;\n",
              "    }\n",
              "\n",
              "    .dataframe tbody tr th {\n",
              "        vertical-align: top;\n",
              "    }\n",
              "\n",
              "    .dataframe thead th {\n",
              "        text-align: right;\n",
              "    }\n",
              "</style>\n",
              "<table border=\"1\" class=\"dataframe\">\n",
              "  <thead>\n",
              "    <tr style=\"text-align: right;\">\n",
              "      <th></th>\n",
              "      <th>fixed_acidity</th>\n",
              "      <th>volatile_acidity</th>\n",
              "      <th>citric_acid</th>\n",
              "      <th>residual_sugar</th>\n",
              "      <th>chlorides</th>\n",
              "      <th>free_sulfur_dioxide</th>\n",
              "      <th>total_sulfur_dioxide</th>\n",
              "      <th>density</th>\n",
              "      <th>pH</th>\n",
              "      <th>sulphates</th>\n",
              "      <th>alcohol</th>\n",
              "      <th>quality</th>\n",
              "      <th>Id</th>\n",
              "    </tr>\n",
              "  </thead>\n",
              "  <tbody>\n",
              "    <tr>\n",
              "      <th>0</th>\n",
              "      <td>7.4</td>\n",
              "      <td>0.70</td>\n",
              "      <td>0.00</td>\n",
              "      <td>1.9</td>\n",
              "      <td>0.076</td>\n",
              "      <td>11.0</td>\n",
              "      <td>34.0</td>\n",
              "      <td>0.9978</td>\n",
              "      <td>3.51</td>\n",
              "      <td>0.56</td>\n",
              "      <td>9.4</td>\n",
              "      <td>5</td>\n",
              "      <td>0</td>\n",
              "    </tr>\n",
              "    <tr>\n",
              "      <th>1</th>\n",
              "      <td>7.8</td>\n",
              "      <td>0.88</td>\n",
              "      <td>0.00</td>\n",
              "      <td>2.6</td>\n",
              "      <td>0.098</td>\n",
              "      <td>25.0</td>\n",
              "      <td>67.0</td>\n",
              "      <td>0.9968</td>\n",
              "      <td>3.20</td>\n",
              "      <td>0.68</td>\n",
              "      <td>9.8</td>\n",
              "      <td>5</td>\n",
              "      <td>1</td>\n",
              "    </tr>\n",
              "    <tr>\n",
              "      <th>2</th>\n",
              "      <td>7.8</td>\n",
              "      <td>0.76</td>\n",
              "      <td>0.04</td>\n",
              "      <td>2.3</td>\n",
              "      <td>0.092</td>\n",
              "      <td>15.0</td>\n",
              "      <td>54.0</td>\n",
              "      <td>0.9970</td>\n",
              "      <td>3.26</td>\n",
              "      <td>0.65</td>\n",
              "      <td>9.8</td>\n",
              "      <td>5</td>\n",
              "      <td>2</td>\n",
              "    </tr>\n",
              "    <tr>\n",
              "      <th>3</th>\n",
              "      <td>11.2</td>\n",
              "      <td>0.28</td>\n",
              "      <td>0.56</td>\n",
              "      <td>1.9</td>\n",
              "      <td>0.075</td>\n",
              "      <td>17.0</td>\n",
              "      <td>60.0</td>\n",
              "      <td>0.9980</td>\n",
              "      <td>3.16</td>\n",
              "      <td>0.58</td>\n",
              "      <td>9.8</td>\n",
              "      <td>6</td>\n",
              "      <td>3</td>\n",
              "    </tr>\n",
              "    <tr>\n",
              "      <th>4</th>\n",
              "      <td>7.4</td>\n",
              "      <td>0.70</td>\n",
              "      <td>0.00</td>\n",
              "      <td>1.9</td>\n",
              "      <td>0.076</td>\n",
              "      <td>11.0</td>\n",
              "      <td>34.0</td>\n",
              "      <td>0.9978</td>\n",
              "      <td>3.51</td>\n",
              "      <td>0.56</td>\n",
              "      <td>9.4</td>\n",
              "      <td>5</td>\n",
              "      <td>4</td>\n",
              "    </tr>\n",
              "  </tbody>\n",
              "</table>\n",
              "</div>\n",
              "    <div class=\"colab-df-buttons\">\n",
              "\n",
              "  <div class=\"colab-df-container\">\n",
              "    <button class=\"colab-df-convert\" onclick=\"convertToInteractive('df-4093d260-98b9-49a9-ab3d-17f4fc9fff8e')\"\n",
              "            title=\"Convert this dataframe to an interactive table.\"\n",
              "            style=\"display:none;\">\n",
              "\n",
              "  <svg xmlns=\"http://www.w3.org/2000/svg\" height=\"24px\" viewBox=\"0 -960 960 960\">\n",
              "    <path d=\"M120-120v-720h720v720H120Zm60-500h600v-160H180v160Zm220 220h160v-160H400v160Zm0 220h160v-160H400v160ZM180-400h160v-160H180v160Zm440 0h160v-160H620v160ZM180-180h160v-160H180v160Zm440 0h160v-160H620v160Z\"/>\n",
              "  </svg>\n",
              "    </button>\n",
              "\n",
              "  <style>\n",
              "    .colab-df-container {\n",
              "      display:flex;\n",
              "      gap: 12px;\n",
              "    }\n",
              "\n",
              "    .colab-df-convert {\n",
              "      background-color: #E8F0FE;\n",
              "      border: none;\n",
              "      border-radius: 50%;\n",
              "      cursor: pointer;\n",
              "      display: none;\n",
              "      fill: #1967D2;\n",
              "      height: 32px;\n",
              "      padding: 0 0 0 0;\n",
              "      width: 32px;\n",
              "    }\n",
              "\n",
              "    .colab-df-convert:hover {\n",
              "      background-color: #E2EBFA;\n",
              "      box-shadow: 0px 1px 2px rgba(60, 64, 67, 0.3), 0px 1px 3px 1px rgba(60, 64, 67, 0.15);\n",
              "      fill: #174EA6;\n",
              "    }\n",
              "\n",
              "    .colab-df-buttons div {\n",
              "      margin-bottom: 4px;\n",
              "    }\n",
              "\n",
              "    [theme=dark] .colab-df-convert {\n",
              "      background-color: #3B4455;\n",
              "      fill: #D2E3FC;\n",
              "    }\n",
              "\n",
              "    [theme=dark] .colab-df-convert:hover {\n",
              "      background-color: #434B5C;\n",
              "      box-shadow: 0px 1px 3px 1px rgba(0, 0, 0, 0.15);\n",
              "      filter: drop-shadow(0px 1px 2px rgba(0, 0, 0, 0.3));\n",
              "      fill: #FFFFFF;\n",
              "    }\n",
              "  </style>\n",
              "\n",
              "    <script>\n",
              "      const buttonEl =\n",
              "        document.querySelector('#df-4093d260-98b9-49a9-ab3d-17f4fc9fff8e button.colab-df-convert');\n",
              "      buttonEl.style.display =\n",
              "        google.colab.kernel.accessAllowed ? 'block' : 'none';\n",
              "\n",
              "      async function convertToInteractive(key) {\n",
              "        const element = document.querySelector('#df-4093d260-98b9-49a9-ab3d-17f4fc9fff8e');\n",
              "        const dataTable =\n",
              "          await google.colab.kernel.invokeFunction('convertToInteractive',\n",
              "                                                    [key], {});\n",
              "        if (!dataTable) return;\n",
              "\n",
              "        const docLinkHtml = 'Like what you see? Visit the ' +\n",
              "          '<a target=\"_blank\" href=https://colab.research.google.com/notebooks/data_table.ipynb>data table notebook</a>'\n",
              "          + ' to learn more about interactive tables.';\n",
              "        element.innerHTML = '';\n",
              "        dataTable['output_type'] = 'display_data';\n",
              "        await google.colab.output.renderOutput(dataTable, element);\n",
              "        const docLink = document.createElement('div');\n",
              "        docLink.innerHTML = docLinkHtml;\n",
              "        element.appendChild(docLink);\n",
              "      }\n",
              "    </script>\n",
              "  </div>\n",
              "\n",
              "\n",
              "<div id=\"df-16411d5c-512d-4173-9851-4a24a423e6c8\">\n",
              "  <button class=\"colab-df-quickchart\" onclick=\"quickchart('df-16411d5c-512d-4173-9851-4a24a423e6c8')\"\n",
              "            title=\"Suggest charts.\"\n",
              "            style=\"display:none;\">\n",
              "\n",
              "<svg xmlns=\"http://www.w3.org/2000/svg\" height=\"24px\"viewBox=\"0 0 24 24\"\n",
              "     width=\"24px\">\n",
              "    <g>\n",
              "        <path d=\"M19 3H5c-1.1 0-2 .9-2 2v14c0 1.1.9 2 2 2h14c1.1 0 2-.9 2-2V5c0-1.1-.9-2-2-2zM9 17H7v-7h2v7zm4 0h-2V7h2v10zm4 0h-2v-4h2v4z\"/>\n",
              "    </g>\n",
              "</svg>\n",
              "  </button>\n",
              "\n",
              "<style>\n",
              "  .colab-df-quickchart {\n",
              "    background-color: #E8F0FE;\n",
              "    border: none;\n",
              "    border-radius: 50%;\n",
              "    cursor: pointer;\n",
              "    display: none;\n",
              "    fill: #1967D2;\n",
              "    height: 32px;\n",
              "    padding: 0 0 0 0;\n",
              "    width: 32px;\n",
              "  }\n",
              "\n",
              "  .colab-df-quickchart:hover {\n",
              "    background-color: #E2EBFA;\n",
              "    box-shadow: 0px 1px 2px rgba(60, 64, 67, 0.3), 0px 1px 3px 1px rgba(60, 64, 67, 0.15);\n",
              "    fill: #174EA6;\n",
              "  }\n",
              "\n",
              "  [theme=dark] .colab-df-quickchart {\n",
              "    background-color: #3B4455;\n",
              "    fill: #D2E3FC;\n",
              "  }\n",
              "\n",
              "  [theme=dark] .colab-df-quickchart:hover {\n",
              "    background-color: #434B5C;\n",
              "    box-shadow: 0px 1px 3px 1px rgba(0, 0, 0, 0.15);\n",
              "    filter: drop-shadow(0px 1px 2px rgba(0, 0, 0, 0.3));\n",
              "    fill: #FFFFFF;\n",
              "  }\n",
              "</style>\n",
              "\n",
              "  <script>\n",
              "    async function quickchart(key) {\n",
              "      const charts = await google.colab.kernel.invokeFunction(\n",
              "          'suggestCharts', [key], {});\n",
              "    }\n",
              "    (() => {\n",
              "      let quickchartButtonEl =\n",
              "        document.querySelector('#df-16411d5c-512d-4173-9851-4a24a423e6c8 button');\n",
              "      quickchartButtonEl.style.display =\n",
              "        google.colab.kernel.accessAllowed ? 'block' : 'none';\n",
              "    })();\n",
              "  </script>\n",
              "</div>\n",
              "    </div>\n",
              "  </div>\n"
            ]
          },
          "metadata": {},
          "execution_count": 5
        }
      ]
    },
    {
      "cell_type": "markdown",
      "source": [
        "Next, let's get an idea of the size, data types, and see if there are any missing data."
      ],
      "metadata": {
        "id": "2eNPUQBysLLF"
      }
    },
    {
      "cell_type": "code",
      "source": [
        "df.shape"
      ],
      "metadata": {
        "id": "EaO3m10QkWO8",
        "colab": {
          "base_uri": "https://localhost:8080/",
          "height": 0
        },
        "outputId": "2950691a-c73c-45a5-a4e2-330fab63b131"
      },
      "execution_count": 6,
      "outputs": [
        {
          "output_type": "execute_result",
          "data": {
            "text/plain": [
              "(1143, 13)"
            ]
          },
          "metadata": {},
          "execution_count": 6
        }
      ]
    },
    {
      "cell_type": "code",
      "source": [
        "df.info()"
      ],
      "metadata": {
        "id": "fUBBWc44kaGx",
        "colab": {
          "base_uri": "https://localhost:8080/",
          "height": 0
        },
        "outputId": "ebee5b0d-32b7-4c95-fec6-26c4f22854af"
      },
      "execution_count": 7,
      "outputs": [
        {
          "output_type": "stream",
          "name": "stdout",
          "text": [
            "<class 'pandas.core.frame.DataFrame'>\n",
            "RangeIndex: 1143 entries, 0 to 1142\n",
            "Data columns (total 13 columns):\n",
            " #   Column                Non-Null Count  Dtype  \n",
            "---  ------                --------------  -----  \n",
            " 0   fixed_acidity         1143 non-null   float64\n",
            " 1   volatile_acidity      1143 non-null   float64\n",
            " 2   citric_acid           1143 non-null   float64\n",
            " 3   residual_sugar        1143 non-null   float64\n",
            " 4   chlorides             1143 non-null   float64\n",
            " 5   free_sulfur_dioxide   1143 non-null   float64\n",
            " 6   total_sulfur_dioxide  1143 non-null   float64\n",
            " 7   density               1143 non-null   float64\n",
            " 8   pH                    1143 non-null   float64\n",
            " 9   sulphates             1143 non-null   float64\n",
            " 10  alcohol               1143 non-null   float64\n",
            " 11  quality               1143 non-null   int64  \n",
            " 12  Id                    1143 non-null   int64  \n",
            "dtypes: float64(11), int64(2)\n",
            "memory usage: 116.2 KB\n"
          ]
        }
      ]
    },
    {
      "cell_type": "markdown",
      "source": [
        "It appears there isn't any missing data, however the Id feature doesn't seem to be of much use for us. Let's drop it."
      ],
      "metadata": {
        "id": "is5eu8rysXah"
      }
    },
    {
      "cell_type": "code",
      "source": [
        "df1 = df.drop('Id',axis =1)\n",
        "df1.info()"
      ],
      "metadata": {
        "id": "utGBR1e4k_OM",
        "colab": {
          "base_uri": "https://localhost:8080/",
          "height": 0
        },
        "outputId": "1fe18264-67be-48c2-c8d8-a652e42af84e"
      },
      "execution_count": 8,
      "outputs": [
        {
          "output_type": "stream",
          "name": "stdout",
          "text": [
            "<class 'pandas.core.frame.DataFrame'>\n",
            "RangeIndex: 1143 entries, 0 to 1142\n",
            "Data columns (total 12 columns):\n",
            " #   Column                Non-Null Count  Dtype  \n",
            "---  ------                --------------  -----  \n",
            " 0   fixed_acidity         1143 non-null   float64\n",
            " 1   volatile_acidity      1143 non-null   float64\n",
            " 2   citric_acid           1143 non-null   float64\n",
            " 3   residual_sugar        1143 non-null   float64\n",
            " 4   chlorides             1143 non-null   float64\n",
            " 5   free_sulfur_dioxide   1143 non-null   float64\n",
            " 6   total_sulfur_dioxide  1143 non-null   float64\n",
            " 7   density               1143 non-null   float64\n",
            " 8   pH                    1143 non-null   float64\n",
            " 9   sulphates             1143 non-null   float64\n",
            " 10  alcohol               1143 non-null   float64\n",
            " 11  quality               1143 non-null   int64  \n",
            "dtypes: float64(11), int64(1)\n",
            "memory usage: 107.3 KB\n"
          ]
        }
      ]
    },
    {
      "cell_type": "markdown",
      "source": [
        "Our target feature in this data set is going to be the quality column. To get a better understanding of the data and features, let's take a look at some descriptive statistics."
      ],
      "metadata": {
        "id": "Ec3KuO49troU"
      }
    },
    {
      "cell_type": "code",
      "source": [
        "df1.describe()"
      ],
      "metadata": {
        "id": "7inA8fr1moQl",
        "colab": {
          "base_uri": "https://localhost:8080/",
          "height": 320
        },
        "outputId": "8f04f5bf-0caf-4080-9125-d5bd9a254290"
      },
      "execution_count": 9,
      "outputs": [
        {
          "output_type": "execute_result",
          "data": {
            "text/plain": [
              "       fixed_acidity  volatile_acidity  citric_acid  residual_sugar  \\\n",
              "count    1143.000000       1143.000000  1143.000000     1143.000000   \n",
              "mean        8.311111          0.531339     0.268364        2.532152   \n",
              "std         1.747595          0.179633     0.196686        1.355917   \n",
              "min         4.600000          0.120000     0.000000        0.900000   \n",
              "25%         7.100000          0.392500     0.090000        1.900000   \n",
              "50%         7.900000          0.520000     0.250000        2.200000   \n",
              "75%         9.100000          0.640000     0.420000        2.600000   \n",
              "max        15.900000          1.580000     1.000000       15.500000   \n",
              "\n",
              "         chlorides  free_sulfur_dioxide  total_sulfur_dioxide      density  \\\n",
              "count  1143.000000          1143.000000           1143.000000  1143.000000   \n",
              "mean      0.086933            15.615486             45.914698     0.996730   \n",
              "std       0.047267            10.250486             32.782130     0.001925   \n",
              "min       0.012000             1.000000              6.000000     0.990070   \n",
              "25%       0.070000             7.000000             21.000000     0.995570   \n",
              "50%       0.079000            13.000000             37.000000     0.996680   \n",
              "75%       0.090000            21.000000             61.000000     0.997845   \n",
              "max       0.611000            68.000000            289.000000     1.003690   \n",
              "\n",
              "                pH    sulphates      alcohol      quality  \n",
              "count  1143.000000  1143.000000  1143.000000  1143.000000  \n",
              "mean      3.311015     0.657708    10.442111     5.657043  \n",
              "std       0.156664     0.170399     1.082196     0.805824  \n",
              "min       2.740000     0.330000     8.400000     3.000000  \n",
              "25%       3.205000     0.550000     9.500000     5.000000  \n",
              "50%       3.310000     0.620000    10.200000     6.000000  \n",
              "75%       3.400000     0.730000    11.100000     6.000000  \n",
              "max       4.010000     2.000000    14.900000     8.000000  "
            ],
            "text/html": [
              "\n",
              "  <div id=\"df-af8c235f-c7af-4286-b602-52ca6d193715\" class=\"colab-df-container\">\n",
              "    <div>\n",
              "<style scoped>\n",
              "    .dataframe tbody tr th:only-of-type {\n",
              "        vertical-align: middle;\n",
              "    }\n",
              "\n",
              "    .dataframe tbody tr th {\n",
              "        vertical-align: top;\n",
              "    }\n",
              "\n",
              "    .dataframe thead th {\n",
              "        text-align: right;\n",
              "    }\n",
              "</style>\n",
              "<table border=\"1\" class=\"dataframe\">\n",
              "  <thead>\n",
              "    <tr style=\"text-align: right;\">\n",
              "      <th></th>\n",
              "      <th>fixed_acidity</th>\n",
              "      <th>volatile_acidity</th>\n",
              "      <th>citric_acid</th>\n",
              "      <th>residual_sugar</th>\n",
              "      <th>chlorides</th>\n",
              "      <th>free_sulfur_dioxide</th>\n",
              "      <th>total_sulfur_dioxide</th>\n",
              "      <th>density</th>\n",
              "      <th>pH</th>\n",
              "      <th>sulphates</th>\n",
              "      <th>alcohol</th>\n",
              "      <th>quality</th>\n",
              "    </tr>\n",
              "  </thead>\n",
              "  <tbody>\n",
              "    <tr>\n",
              "      <th>count</th>\n",
              "      <td>1143.000000</td>\n",
              "      <td>1143.000000</td>\n",
              "      <td>1143.000000</td>\n",
              "      <td>1143.000000</td>\n",
              "      <td>1143.000000</td>\n",
              "      <td>1143.000000</td>\n",
              "      <td>1143.000000</td>\n",
              "      <td>1143.000000</td>\n",
              "      <td>1143.000000</td>\n",
              "      <td>1143.000000</td>\n",
              "      <td>1143.000000</td>\n",
              "      <td>1143.000000</td>\n",
              "    </tr>\n",
              "    <tr>\n",
              "      <th>mean</th>\n",
              "      <td>8.311111</td>\n",
              "      <td>0.531339</td>\n",
              "      <td>0.268364</td>\n",
              "      <td>2.532152</td>\n",
              "      <td>0.086933</td>\n",
              "      <td>15.615486</td>\n",
              "      <td>45.914698</td>\n",
              "      <td>0.996730</td>\n",
              "      <td>3.311015</td>\n",
              "      <td>0.657708</td>\n",
              "      <td>10.442111</td>\n",
              "      <td>5.657043</td>\n",
              "    </tr>\n",
              "    <tr>\n",
              "      <th>std</th>\n",
              "      <td>1.747595</td>\n",
              "      <td>0.179633</td>\n",
              "      <td>0.196686</td>\n",
              "      <td>1.355917</td>\n",
              "      <td>0.047267</td>\n",
              "      <td>10.250486</td>\n",
              "      <td>32.782130</td>\n",
              "      <td>0.001925</td>\n",
              "      <td>0.156664</td>\n",
              "      <td>0.170399</td>\n",
              "      <td>1.082196</td>\n",
              "      <td>0.805824</td>\n",
              "    </tr>\n",
              "    <tr>\n",
              "      <th>min</th>\n",
              "      <td>4.600000</td>\n",
              "      <td>0.120000</td>\n",
              "      <td>0.000000</td>\n",
              "      <td>0.900000</td>\n",
              "      <td>0.012000</td>\n",
              "      <td>1.000000</td>\n",
              "      <td>6.000000</td>\n",
              "      <td>0.990070</td>\n",
              "      <td>2.740000</td>\n",
              "      <td>0.330000</td>\n",
              "      <td>8.400000</td>\n",
              "      <td>3.000000</td>\n",
              "    </tr>\n",
              "    <tr>\n",
              "      <th>25%</th>\n",
              "      <td>7.100000</td>\n",
              "      <td>0.392500</td>\n",
              "      <td>0.090000</td>\n",
              "      <td>1.900000</td>\n",
              "      <td>0.070000</td>\n",
              "      <td>7.000000</td>\n",
              "      <td>21.000000</td>\n",
              "      <td>0.995570</td>\n",
              "      <td>3.205000</td>\n",
              "      <td>0.550000</td>\n",
              "      <td>9.500000</td>\n",
              "      <td>5.000000</td>\n",
              "    </tr>\n",
              "    <tr>\n",
              "      <th>50%</th>\n",
              "      <td>7.900000</td>\n",
              "      <td>0.520000</td>\n",
              "      <td>0.250000</td>\n",
              "      <td>2.200000</td>\n",
              "      <td>0.079000</td>\n",
              "      <td>13.000000</td>\n",
              "      <td>37.000000</td>\n",
              "      <td>0.996680</td>\n",
              "      <td>3.310000</td>\n",
              "      <td>0.620000</td>\n",
              "      <td>10.200000</td>\n",
              "      <td>6.000000</td>\n",
              "    </tr>\n",
              "    <tr>\n",
              "      <th>75%</th>\n",
              "      <td>9.100000</td>\n",
              "      <td>0.640000</td>\n",
              "      <td>0.420000</td>\n",
              "      <td>2.600000</td>\n",
              "      <td>0.090000</td>\n",
              "      <td>21.000000</td>\n",
              "      <td>61.000000</td>\n",
              "      <td>0.997845</td>\n",
              "      <td>3.400000</td>\n",
              "      <td>0.730000</td>\n",
              "      <td>11.100000</td>\n",
              "      <td>6.000000</td>\n",
              "    </tr>\n",
              "    <tr>\n",
              "      <th>max</th>\n",
              "      <td>15.900000</td>\n",
              "      <td>1.580000</td>\n",
              "      <td>1.000000</td>\n",
              "      <td>15.500000</td>\n",
              "      <td>0.611000</td>\n",
              "      <td>68.000000</td>\n",
              "      <td>289.000000</td>\n",
              "      <td>1.003690</td>\n",
              "      <td>4.010000</td>\n",
              "      <td>2.000000</td>\n",
              "      <td>14.900000</td>\n",
              "      <td>8.000000</td>\n",
              "    </tr>\n",
              "  </tbody>\n",
              "</table>\n",
              "</div>\n",
              "    <div class=\"colab-df-buttons\">\n",
              "\n",
              "  <div class=\"colab-df-container\">\n",
              "    <button class=\"colab-df-convert\" onclick=\"convertToInteractive('df-af8c235f-c7af-4286-b602-52ca6d193715')\"\n",
              "            title=\"Convert this dataframe to an interactive table.\"\n",
              "            style=\"display:none;\">\n",
              "\n",
              "  <svg xmlns=\"http://www.w3.org/2000/svg\" height=\"24px\" viewBox=\"0 -960 960 960\">\n",
              "    <path d=\"M120-120v-720h720v720H120Zm60-500h600v-160H180v160Zm220 220h160v-160H400v160Zm0 220h160v-160H400v160ZM180-400h160v-160H180v160Zm440 0h160v-160H620v160ZM180-180h160v-160H180v160Zm440 0h160v-160H620v160Z\"/>\n",
              "  </svg>\n",
              "    </button>\n",
              "\n",
              "  <style>\n",
              "    .colab-df-container {\n",
              "      display:flex;\n",
              "      gap: 12px;\n",
              "    }\n",
              "\n",
              "    .colab-df-convert {\n",
              "      background-color: #E8F0FE;\n",
              "      border: none;\n",
              "      border-radius: 50%;\n",
              "      cursor: pointer;\n",
              "      display: none;\n",
              "      fill: #1967D2;\n",
              "      height: 32px;\n",
              "      padding: 0 0 0 0;\n",
              "      width: 32px;\n",
              "    }\n",
              "\n",
              "    .colab-df-convert:hover {\n",
              "      background-color: #E2EBFA;\n",
              "      box-shadow: 0px 1px 2px rgba(60, 64, 67, 0.3), 0px 1px 3px 1px rgba(60, 64, 67, 0.15);\n",
              "      fill: #174EA6;\n",
              "    }\n",
              "\n",
              "    .colab-df-buttons div {\n",
              "      margin-bottom: 4px;\n",
              "    }\n",
              "\n",
              "    [theme=dark] .colab-df-convert {\n",
              "      background-color: #3B4455;\n",
              "      fill: #D2E3FC;\n",
              "    }\n",
              "\n",
              "    [theme=dark] .colab-df-convert:hover {\n",
              "      background-color: #434B5C;\n",
              "      box-shadow: 0px 1px 3px 1px rgba(0, 0, 0, 0.15);\n",
              "      filter: drop-shadow(0px 1px 2px rgba(0, 0, 0, 0.3));\n",
              "      fill: #FFFFFF;\n",
              "    }\n",
              "  </style>\n",
              "\n",
              "    <script>\n",
              "      const buttonEl =\n",
              "        document.querySelector('#df-af8c235f-c7af-4286-b602-52ca6d193715 button.colab-df-convert');\n",
              "      buttonEl.style.display =\n",
              "        google.colab.kernel.accessAllowed ? 'block' : 'none';\n",
              "\n",
              "      async function convertToInteractive(key) {\n",
              "        const element = document.querySelector('#df-af8c235f-c7af-4286-b602-52ca6d193715');\n",
              "        const dataTable =\n",
              "          await google.colab.kernel.invokeFunction('convertToInteractive',\n",
              "                                                    [key], {});\n",
              "        if (!dataTable) return;\n",
              "\n",
              "        const docLinkHtml = 'Like what you see? Visit the ' +\n",
              "          '<a target=\"_blank\" href=https://colab.research.google.com/notebooks/data_table.ipynb>data table notebook</a>'\n",
              "          + ' to learn more about interactive tables.';\n",
              "        element.innerHTML = '';\n",
              "        dataTable['output_type'] = 'display_data';\n",
              "        await google.colab.output.renderOutput(dataTable, element);\n",
              "        const docLink = document.createElement('div');\n",
              "        docLink.innerHTML = docLinkHtml;\n",
              "        element.appendChild(docLink);\n",
              "      }\n",
              "    </script>\n",
              "  </div>\n",
              "\n",
              "\n",
              "<div id=\"df-7fec26e7-04ff-4c92-99b0-ff2d86d4a7ed\">\n",
              "  <button class=\"colab-df-quickchart\" onclick=\"quickchart('df-7fec26e7-04ff-4c92-99b0-ff2d86d4a7ed')\"\n",
              "            title=\"Suggest charts.\"\n",
              "            style=\"display:none;\">\n",
              "\n",
              "<svg xmlns=\"http://www.w3.org/2000/svg\" height=\"24px\"viewBox=\"0 0 24 24\"\n",
              "     width=\"24px\">\n",
              "    <g>\n",
              "        <path d=\"M19 3H5c-1.1 0-2 .9-2 2v14c0 1.1.9 2 2 2h14c1.1 0 2-.9 2-2V5c0-1.1-.9-2-2-2zM9 17H7v-7h2v7zm4 0h-2V7h2v10zm4 0h-2v-4h2v4z\"/>\n",
              "    </g>\n",
              "</svg>\n",
              "  </button>\n",
              "\n",
              "<style>\n",
              "  .colab-df-quickchart {\n",
              "    background-color: #E8F0FE;\n",
              "    border: none;\n",
              "    border-radius: 50%;\n",
              "    cursor: pointer;\n",
              "    display: none;\n",
              "    fill: #1967D2;\n",
              "    height: 32px;\n",
              "    padding: 0 0 0 0;\n",
              "    width: 32px;\n",
              "  }\n",
              "\n",
              "  .colab-df-quickchart:hover {\n",
              "    background-color: #E2EBFA;\n",
              "    box-shadow: 0px 1px 2px rgba(60, 64, 67, 0.3), 0px 1px 3px 1px rgba(60, 64, 67, 0.15);\n",
              "    fill: #174EA6;\n",
              "  }\n",
              "\n",
              "  [theme=dark] .colab-df-quickchart {\n",
              "    background-color: #3B4455;\n",
              "    fill: #D2E3FC;\n",
              "  }\n",
              "\n",
              "  [theme=dark] .colab-df-quickchart:hover {\n",
              "    background-color: #434B5C;\n",
              "    box-shadow: 0px 1px 3px 1px rgba(0, 0, 0, 0.15);\n",
              "    filter: drop-shadow(0px 1px 2px rgba(0, 0, 0, 0.3));\n",
              "    fill: #FFFFFF;\n",
              "  }\n",
              "</style>\n",
              "\n",
              "  <script>\n",
              "    async function quickchart(key) {\n",
              "      const charts = await google.colab.kernel.invokeFunction(\n",
              "          'suggestCharts', [key], {});\n",
              "    }\n",
              "    (() => {\n",
              "      let quickchartButtonEl =\n",
              "        document.querySelector('#df-7fec26e7-04ff-4c92-99b0-ff2d86d4a7ed button');\n",
              "      quickchartButtonEl.style.display =\n",
              "        google.colab.kernel.accessAllowed ? 'block' : 'none';\n",
              "    })();\n",
              "  </script>\n",
              "</div>\n",
              "    </div>\n",
              "  </div>\n"
            ]
          },
          "metadata": {},
          "execution_count": 9
        }
      ]
    },
    {
      "cell_type": "code",
      "source": [
        "df1.corr()"
      ],
      "metadata": {
        "id": "0ozD00JMj18V",
        "colab": {
          "base_uri": "https://localhost:8080/",
          "height": 445
        },
        "outputId": "bbc65c04-beb6-44d5-80b1-1731323c1a00"
      },
      "execution_count": 10,
      "outputs": [
        {
          "output_type": "execute_result",
          "data": {
            "text/plain": [
              "                      fixed_acidity  volatile_acidity  citric_acid  \\\n",
              "fixed_acidity              1.000000         -0.250728     0.673157   \n",
              "volatile_acidity          -0.250728          1.000000    -0.544187   \n",
              "citric_acid                0.673157         -0.544187     1.000000   \n",
              "residual_sugar             0.171831         -0.005751     0.175815   \n",
              "chlorides                  0.107889          0.056336     0.245312   \n",
              "free_sulfur_dioxide       -0.164831         -0.001962    -0.057589   \n",
              "total_sulfur_dioxide      -0.110628          0.077748     0.036871   \n",
              "density                    0.681501          0.016512     0.375243   \n",
              "pH                        -0.685163          0.221492    -0.546339   \n",
              "sulphates                  0.174592         -0.276079     0.331232   \n",
              "alcohol                   -0.075055         -0.203909     0.106250   \n",
              "quality                    0.121970         -0.407394     0.240821   \n",
              "\n",
              "                      residual_sugar  chlorides  free_sulfur_dioxide  \\\n",
              "fixed_acidity               0.171831   0.107889            -0.164831   \n",
              "volatile_acidity           -0.005751   0.056336            -0.001962   \n",
              "citric_acid                 0.175815   0.245312            -0.057589   \n",
              "residual_sugar              1.000000   0.070863             0.165339   \n",
              "chlorides                   0.070863   1.000000             0.015280   \n",
              "free_sulfur_dioxide         0.165339   0.015280             1.000000   \n",
              "total_sulfur_dioxide        0.190790   0.048163             0.661093   \n",
              "density                     0.380147   0.208901            -0.054150   \n",
              "pH                         -0.116959  -0.277759             0.072804   \n",
              "sulphates                   0.017475   0.374784             0.034445   \n",
              "alcohol                     0.058421  -0.229917            -0.047095   \n",
              "quality                     0.022002  -0.124085            -0.063260   \n",
              "\n",
              "                      total_sulfur_dioxide   density        pH  sulphates  \\\n",
              "fixed_acidity                    -0.110628  0.681501 -0.685163   0.174592   \n",
              "volatile_acidity                  0.077748  0.016512  0.221492  -0.276079   \n",
              "citric_acid                       0.036871  0.375243 -0.546339   0.331232   \n",
              "residual_sugar                    0.190790  0.380147 -0.116959   0.017475   \n",
              "chlorides                         0.048163  0.208901 -0.277759   0.374784   \n",
              "free_sulfur_dioxide               0.661093 -0.054150  0.072804   0.034445   \n",
              "total_sulfur_dioxide              1.000000  0.050175 -0.059126   0.026894   \n",
              "density                           0.050175  1.000000 -0.352775   0.143139   \n",
              "pH                               -0.059126 -0.352775  1.000000  -0.185499   \n",
              "sulphates                         0.026894  0.143139 -0.185499   1.000000   \n",
              "alcohol                          -0.188165 -0.494727  0.225322   0.094421   \n",
              "quality                          -0.183339 -0.175208 -0.052453   0.257710   \n",
              "\n",
              "                       alcohol   quality  \n",
              "fixed_acidity        -0.075055  0.121970  \n",
              "volatile_acidity     -0.203909 -0.407394  \n",
              "citric_acid           0.106250  0.240821  \n",
              "residual_sugar        0.058421  0.022002  \n",
              "chlorides            -0.229917 -0.124085  \n",
              "free_sulfur_dioxide  -0.047095 -0.063260  \n",
              "total_sulfur_dioxide -0.188165 -0.183339  \n",
              "density              -0.494727 -0.175208  \n",
              "pH                    0.225322 -0.052453  \n",
              "sulphates             0.094421  0.257710  \n",
              "alcohol               1.000000  0.484866  \n",
              "quality               0.484866  1.000000  "
            ],
            "text/html": [
              "\n",
              "  <div id=\"df-a09fd04e-1f25-4087-b080-086c882c3b84\" class=\"colab-df-container\">\n",
              "    <div>\n",
              "<style scoped>\n",
              "    .dataframe tbody tr th:only-of-type {\n",
              "        vertical-align: middle;\n",
              "    }\n",
              "\n",
              "    .dataframe tbody tr th {\n",
              "        vertical-align: top;\n",
              "    }\n",
              "\n",
              "    .dataframe thead th {\n",
              "        text-align: right;\n",
              "    }\n",
              "</style>\n",
              "<table border=\"1\" class=\"dataframe\">\n",
              "  <thead>\n",
              "    <tr style=\"text-align: right;\">\n",
              "      <th></th>\n",
              "      <th>fixed_acidity</th>\n",
              "      <th>volatile_acidity</th>\n",
              "      <th>citric_acid</th>\n",
              "      <th>residual_sugar</th>\n",
              "      <th>chlorides</th>\n",
              "      <th>free_sulfur_dioxide</th>\n",
              "      <th>total_sulfur_dioxide</th>\n",
              "      <th>density</th>\n",
              "      <th>pH</th>\n",
              "      <th>sulphates</th>\n",
              "      <th>alcohol</th>\n",
              "      <th>quality</th>\n",
              "    </tr>\n",
              "  </thead>\n",
              "  <tbody>\n",
              "    <tr>\n",
              "      <th>fixed_acidity</th>\n",
              "      <td>1.000000</td>\n",
              "      <td>-0.250728</td>\n",
              "      <td>0.673157</td>\n",
              "      <td>0.171831</td>\n",
              "      <td>0.107889</td>\n",
              "      <td>-0.164831</td>\n",
              "      <td>-0.110628</td>\n",
              "      <td>0.681501</td>\n",
              "      <td>-0.685163</td>\n",
              "      <td>0.174592</td>\n",
              "      <td>-0.075055</td>\n",
              "      <td>0.121970</td>\n",
              "    </tr>\n",
              "    <tr>\n",
              "      <th>volatile_acidity</th>\n",
              "      <td>-0.250728</td>\n",
              "      <td>1.000000</td>\n",
              "      <td>-0.544187</td>\n",
              "      <td>-0.005751</td>\n",
              "      <td>0.056336</td>\n",
              "      <td>-0.001962</td>\n",
              "      <td>0.077748</td>\n",
              "      <td>0.016512</td>\n",
              "      <td>0.221492</td>\n",
              "      <td>-0.276079</td>\n",
              "      <td>-0.203909</td>\n",
              "      <td>-0.407394</td>\n",
              "    </tr>\n",
              "    <tr>\n",
              "      <th>citric_acid</th>\n",
              "      <td>0.673157</td>\n",
              "      <td>-0.544187</td>\n",
              "      <td>1.000000</td>\n",
              "      <td>0.175815</td>\n",
              "      <td>0.245312</td>\n",
              "      <td>-0.057589</td>\n",
              "      <td>0.036871</td>\n",
              "      <td>0.375243</td>\n",
              "      <td>-0.546339</td>\n",
              "      <td>0.331232</td>\n",
              "      <td>0.106250</td>\n",
              "      <td>0.240821</td>\n",
              "    </tr>\n",
              "    <tr>\n",
              "      <th>residual_sugar</th>\n",
              "      <td>0.171831</td>\n",
              "      <td>-0.005751</td>\n",
              "      <td>0.175815</td>\n",
              "      <td>1.000000</td>\n",
              "      <td>0.070863</td>\n",
              "      <td>0.165339</td>\n",
              "      <td>0.190790</td>\n",
              "      <td>0.380147</td>\n",
              "      <td>-0.116959</td>\n",
              "      <td>0.017475</td>\n",
              "      <td>0.058421</td>\n",
              "      <td>0.022002</td>\n",
              "    </tr>\n",
              "    <tr>\n",
              "      <th>chlorides</th>\n",
              "      <td>0.107889</td>\n",
              "      <td>0.056336</td>\n",
              "      <td>0.245312</td>\n",
              "      <td>0.070863</td>\n",
              "      <td>1.000000</td>\n",
              "      <td>0.015280</td>\n",
              "      <td>0.048163</td>\n",
              "      <td>0.208901</td>\n",
              "      <td>-0.277759</td>\n",
              "      <td>0.374784</td>\n",
              "      <td>-0.229917</td>\n",
              "      <td>-0.124085</td>\n",
              "    </tr>\n",
              "    <tr>\n",
              "      <th>free_sulfur_dioxide</th>\n",
              "      <td>-0.164831</td>\n",
              "      <td>-0.001962</td>\n",
              "      <td>-0.057589</td>\n",
              "      <td>0.165339</td>\n",
              "      <td>0.015280</td>\n",
              "      <td>1.000000</td>\n",
              "      <td>0.661093</td>\n",
              "      <td>-0.054150</td>\n",
              "      <td>0.072804</td>\n",
              "      <td>0.034445</td>\n",
              "      <td>-0.047095</td>\n",
              "      <td>-0.063260</td>\n",
              "    </tr>\n",
              "    <tr>\n",
              "      <th>total_sulfur_dioxide</th>\n",
              "      <td>-0.110628</td>\n",
              "      <td>0.077748</td>\n",
              "      <td>0.036871</td>\n",
              "      <td>0.190790</td>\n",
              "      <td>0.048163</td>\n",
              "      <td>0.661093</td>\n",
              "      <td>1.000000</td>\n",
              "      <td>0.050175</td>\n",
              "      <td>-0.059126</td>\n",
              "      <td>0.026894</td>\n",
              "      <td>-0.188165</td>\n",
              "      <td>-0.183339</td>\n",
              "    </tr>\n",
              "    <tr>\n",
              "      <th>density</th>\n",
              "      <td>0.681501</td>\n",
              "      <td>0.016512</td>\n",
              "      <td>0.375243</td>\n",
              "      <td>0.380147</td>\n",
              "      <td>0.208901</td>\n",
              "      <td>-0.054150</td>\n",
              "      <td>0.050175</td>\n",
              "      <td>1.000000</td>\n",
              "      <td>-0.352775</td>\n",
              "      <td>0.143139</td>\n",
              "      <td>-0.494727</td>\n",
              "      <td>-0.175208</td>\n",
              "    </tr>\n",
              "    <tr>\n",
              "      <th>pH</th>\n",
              "      <td>-0.685163</td>\n",
              "      <td>0.221492</td>\n",
              "      <td>-0.546339</td>\n",
              "      <td>-0.116959</td>\n",
              "      <td>-0.277759</td>\n",
              "      <td>0.072804</td>\n",
              "      <td>-0.059126</td>\n",
              "      <td>-0.352775</td>\n",
              "      <td>1.000000</td>\n",
              "      <td>-0.185499</td>\n",
              "      <td>0.225322</td>\n",
              "      <td>-0.052453</td>\n",
              "    </tr>\n",
              "    <tr>\n",
              "      <th>sulphates</th>\n",
              "      <td>0.174592</td>\n",
              "      <td>-0.276079</td>\n",
              "      <td>0.331232</td>\n",
              "      <td>0.017475</td>\n",
              "      <td>0.374784</td>\n",
              "      <td>0.034445</td>\n",
              "      <td>0.026894</td>\n",
              "      <td>0.143139</td>\n",
              "      <td>-0.185499</td>\n",
              "      <td>1.000000</td>\n",
              "      <td>0.094421</td>\n",
              "      <td>0.257710</td>\n",
              "    </tr>\n",
              "    <tr>\n",
              "      <th>alcohol</th>\n",
              "      <td>-0.075055</td>\n",
              "      <td>-0.203909</td>\n",
              "      <td>0.106250</td>\n",
              "      <td>0.058421</td>\n",
              "      <td>-0.229917</td>\n",
              "      <td>-0.047095</td>\n",
              "      <td>-0.188165</td>\n",
              "      <td>-0.494727</td>\n",
              "      <td>0.225322</td>\n",
              "      <td>0.094421</td>\n",
              "      <td>1.000000</td>\n",
              "      <td>0.484866</td>\n",
              "    </tr>\n",
              "    <tr>\n",
              "      <th>quality</th>\n",
              "      <td>0.121970</td>\n",
              "      <td>-0.407394</td>\n",
              "      <td>0.240821</td>\n",
              "      <td>0.022002</td>\n",
              "      <td>-0.124085</td>\n",
              "      <td>-0.063260</td>\n",
              "      <td>-0.183339</td>\n",
              "      <td>-0.175208</td>\n",
              "      <td>-0.052453</td>\n",
              "      <td>0.257710</td>\n",
              "      <td>0.484866</td>\n",
              "      <td>1.000000</td>\n",
              "    </tr>\n",
              "  </tbody>\n",
              "</table>\n",
              "</div>\n",
              "    <div class=\"colab-df-buttons\">\n",
              "\n",
              "  <div class=\"colab-df-container\">\n",
              "    <button class=\"colab-df-convert\" onclick=\"convertToInteractive('df-a09fd04e-1f25-4087-b080-086c882c3b84')\"\n",
              "            title=\"Convert this dataframe to an interactive table.\"\n",
              "            style=\"display:none;\">\n",
              "\n",
              "  <svg xmlns=\"http://www.w3.org/2000/svg\" height=\"24px\" viewBox=\"0 -960 960 960\">\n",
              "    <path d=\"M120-120v-720h720v720H120Zm60-500h600v-160H180v160Zm220 220h160v-160H400v160Zm0 220h160v-160H400v160ZM180-400h160v-160H180v160Zm440 0h160v-160H620v160ZM180-180h160v-160H180v160Zm440 0h160v-160H620v160Z\"/>\n",
              "  </svg>\n",
              "    </button>\n",
              "\n",
              "  <style>\n",
              "    .colab-df-container {\n",
              "      display:flex;\n",
              "      gap: 12px;\n",
              "    }\n",
              "\n",
              "    .colab-df-convert {\n",
              "      background-color: #E8F0FE;\n",
              "      border: none;\n",
              "      border-radius: 50%;\n",
              "      cursor: pointer;\n",
              "      display: none;\n",
              "      fill: #1967D2;\n",
              "      height: 32px;\n",
              "      padding: 0 0 0 0;\n",
              "      width: 32px;\n",
              "    }\n",
              "\n",
              "    .colab-df-convert:hover {\n",
              "      background-color: #E2EBFA;\n",
              "      box-shadow: 0px 1px 2px rgba(60, 64, 67, 0.3), 0px 1px 3px 1px rgba(60, 64, 67, 0.15);\n",
              "      fill: #174EA6;\n",
              "    }\n",
              "\n",
              "    .colab-df-buttons div {\n",
              "      margin-bottom: 4px;\n",
              "    }\n",
              "\n",
              "    [theme=dark] .colab-df-convert {\n",
              "      background-color: #3B4455;\n",
              "      fill: #D2E3FC;\n",
              "    }\n",
              "\n",
              "    [theme=dark] .colab-df-convert:hover {\n",
              "      background-color: #434B5C;\n",
              "      box-shadow: 0px 1px 3px 1px rgba(0, 0, 0, 0.15);\n",
              "      filter: drop-shadow(0px 1px 2px rgba(0, 0, 0, 0.3));\n",
              "      fill: #FFFFFF;\n",
              "    }\n",
              "  </style>\n",
              "\n",
              "    <script>\n",
              "      const buttonEl =\n",
              "        document.querySelector('#df-a09fd04e-1f25-4087-b080-086c882c3b84 button.colab-df-convert');\n",
              "      buttonEl.style.display =\n",
              "        google.colab.kernel.accessAllowed ? 'block' : 'none';\n",
              "\n",
              "      async function convertToInteractive(key) {\n",
              "        const element = document.querySelector('#df-a09fd04e-1f25-4087-b080-086c882c3b84');\n",
              "        const dataTable =\n",
              "          await google.colab.kernel.invokeFunction('convertToInteractive',\n",
              "                                                    [key], {});\n",
              "        if (!dataTable) return;\n",
              "\n",
              "        const docLinkHtml = 'Like what you see? Visit the ' +\n",
              "          '<a target=\"_blank\" href=https://colab.research.google.com/notebooks/data_table.ipynb>data table notebook</a>'\n",
              "          + ' to learn more about interactive tables.';\n",
              "        element.innerHTML = '';\n",
              "        dataTable['output_type'] = 'display_data';\n",
              "        await google.colab.output.renderOutput(dataTable, element);\n",
              "        const docLink = document.createElement('div');\n",
              "        docLink.innerHTML = docLinkHtml;\n",
              "        element.appendChild(docLink);\n",
              "      }\n",
              "    </script>\n",
              "  </div>\n",
              "\n",
              "\n",
              "<div id=\"df-41e0f147-0db1-4e19-8996-0bddeebc6e36\">\n",
              "  <button class=\"colab-df-quickchart\" onclick=\"quickchart('df-41e0f147-0db1-4e19-8996-0bddeebc6e36')\"\n",
              "            title=\"Suggest charts.\"\n",
              "            style=\"display:none;\">\n",
              "\n",
              "<svg xmlns=\"http://www.w3.org/2000/svg\" height=\"24px\"viewBox=\"0 0 24 24\"\n",
              "     width=\"24px\">\n",
              "    <g>\n",
              "        <path d=\"M19 3H5c-1.1 0-2 .9-2 2v14c0 1.1.9 2 2 2h14c1.1 0 2-.9 2-2V5c0-1.1-.9-2-2-2zM9 17H7v-7h2v7zm4 0h-2V7h2v10zm4 0h-2v-4h2v4z\"/>\n",
              "    </g>\n",
              "</svg>\n",
              "  </button>\n",
              "\n",
              "<style>\n",
              "  .colab-df-quickchart {\n",
              "    background-color: #E8F0FE;\n",
              "    border: none;\n",
              "    border-radius: 50%;\n",
              "    cursor: pointer;\n",
              "    display: none;\n",
              "    fill: #1967D2;\n",
              "    height: 32px;\n",
              "    padding: 0 0 0 0;\n",
              "    width: 32px;\n",
              "  }\n",
              "\n",
              "  .colab-df-quickchart:hover {\n",
              "    background-color: #E2EBFA;\n",
              "    box-shadow: 0px 1px 2px rgba(60, 64, 67, 0.3), 0px 1px 3px 1px rgba(60, 64, 67, 0.15);\n",
              "    fill: #174EA6;\n",
              "  }\n",
              "\n",
              "  [theme=dark] .colab-df-quickchart {\n",
              "    background-color: #3B4455;\n",
              "    fill: #D2E3FC;\n",
              "  }\n",
              "\n",
              "  [theme=dark] .colab-df-quickchart:hover {\n",
              "    background-color: #434B5C;\n",
              "    box-shadow: 0px 1px 3px 1px rgba(0, 0, 0, 0.15);\n",
              "    filter: drop-shadow(0px 1px 2px rgba(0, 0, 0, 0.3));\n",
              "    fill: #FFFFFF;\n",
              "  }\n",
              "</style>\n",
              "\n",
              "  <script>\n",
              "    async function quickchart(key) {\n",
              "      const charts = await google.colab.kernel.invokeFunction(\n",
              "          'suggestCharts', [key], {});\n",
              "    }\n",
              "    (() => {\n",
              "      let quickchartButtonEl =\n",
              "        document.querySelector('#df-41e0f147-0db1-4e19-8996-0bddeebc6e36 button');\n",
              "      quickchartButtonEl.style.display =\n",
              "        google.colab.kernel.accessAllowed ? 'block' : 'none';\n",
              "    })();\n",
              "  </script>\n",
              "</div>\n",
              "    </div>\n",
              "  </div>\n"
            ]
          },
          "metadata": {},
          "execution_count": 10
        }
      ]
    },
    {
      "cell_type": "markdown",
      "source": [
        "Now let’s create some graphs to get an understanding of the statistics we generated."
      ],
      "metadata": {
        "id": "hHGKO-Jgm_c8"
      }
    },
    {
      "cell_type": "code",
      "source": [
        "df1.hist(bins=20, figsize=(10, 10))\n",
        "plt.show()"
      ],
      "metadata": {
        "id": "4f4Q46eCnIeL",
        "colab": {
          "base_uri": "https://localhost:8080/",
          "height": 853
        },
        "outputId": "458107c9-f00f-4daa-9a5d-44a4b857c1e3"
      },
      "execution_count": 11,
      "outputs": [
        {
          "output_type": "display_data",
          "data": {
            "text/plain": [
              "<Figure size 1000x1000 with 12 Axes>"
            ],
            "image/png": "[encoded data removed]"
          },
          "metadata": {}
        }
      ]
    },
    {
      "cell_type": "code",
      "source": [
        "plt.figure(figsize=(10, 10))\n",
        "sns.heatmap(df1.corr(), linewidth=.5,annot=True)\n",
        "plt.show()"
      ],
      "metadata": {
        "id": "bbDqh5D_nL2-",
        "colab": {
          "base_uri": "https://localhost:8080/",
          "height": 957
        },
        "outputId": "4112249e-a6ab-4408-bce0-fdd13a2f010e"
      },
      "execution_count": 12,
      "outputs": [
        {
          "output_type": "display_data",
          "data": {
            "text/plain": [
              "<Figure size 1000x1000 with 2 Axes>"
            ],
            "image/png": "[encoded data removed]"
          },
          "metadata": {}
        }
      ]
    },
    {
      "cell_type": "markdown",
      "source": [
        "The free sulfur dioxide and total sulfar dioxide are some what correlated according to the chart, as well as their names.\n",
        "So let's drop one of them."
      ],
      "metadata": {
        "id": "a-yMbg2IpXo9"
      }
    },
    {
      "cell_type": "code",
      "source": [
        "df2 = df1.drop('free_sulfur_dioxide',axis =1)"
      ],
      "metadata": {
        "id": "tloyaTfppnqq"
      },
      "execution_count": 13,
      "outputs": []
    },
    {
      "cell_type": "code",
      "source": [
        "df2.info()"
      ],
      "metadata": {
        "id": "5QAOfNBspzcZ",
        "colab": {
          "base_uri": "https://localhost:8080/",
          "height": 0
        },
        "outputId": "e8f2ae94-2104-41b9-85c4-6ddd8b79e84b"
      },
      "execution_count": 14,
      "outputs": [
        {
          "output_type": "stream",
          "name": "stdout",
          "text": [
            "<class 'pandas.core.frame.DataFrame'>\n",
            "RangeIndex: 1143 entries, 0 to 1142\n",
            "Data columns (total 11 columns):\n",
            " #   Column                Non-Null Count  Dtype  \n",
            "---  ------                --------------  -----  \n",
            " 0   fixed_acidity         1143 non-null   float64\n",
            " 1   volatile_acidity      1143 non-null   float64\n",
            " 2   citric_acid           1143 non-null   float64\n",
            " 3   residual_sugar        1143 non-null   float64\n",
            " 4   chlorides             1143 non-null   float64\n",
            " 5   total_sulfur_dioxide  1143 non-null   float64\n",
            " 6   density               1143 non-null   float64\n",
            " 7   pH                    1143 non-null   float64\n",
            " 8   sulphates             1143 non-null   float64\n",
            " 9   alcohol               1143 non-null   float64\n",
            " 10  quality               1143 non-null   int64  \n",
            "dtypes: float64(10), int64(1)\n",
            "memory usage: 98.4 KB\n"
          ]
        }
      ]
    },
    {
      "cell_type": "markdown",
      "source": [
        "In this notebook, we are going to take two approaches to building a predictive model. First, we are going to try and predict an actual value for the quality of the wine. Next, we will build a new categorical feature for the wine and build a classification model. Then we will compare the two."
      ],
      "metadata": {
        "id": "0_e6iI_quBr0"
      }
    },
    {
      "cell_type": "markdown",
      "source": [
        "# The Regression Model"
      ],
      "metadata": {
        "id": "wIQglzhhvDZ9"
      }
    },
    {
      "cell_type": "markdown",
      "source": [
        "Our first step is to split the data into train and test sets for our model."
      ],
      "metadata": {
        "id": "QfWDoWdnwMgE"
      }
    },
    {
      "cell_type": "code",
      "source": [
        "dfr_target = df2['quality']\n",
        "dfr_rest = df2"
      ],
      "metadata": {
        "id": "NoUducbiwS0F"
      },
      "execution_count": 15,
      "outputs": []
    },
    {
      "cell_type": "code",
      "source": [
        "print(dfr_rest.head())"
      ],
      "metadata": {
        "id": "wXf6epOPwtZr",
        "colab": {
          "base_uri": "https://localhost:8080/",
          "height": 0
        },
        "outputId": "9cba4dde-b33b-4c0f-f8d5-f54eb0e842c6"
      },
      "execution_count": 16,
      "outputs": [
        {
          "output_type": "stream",
          "name": "stdout",
          "text": [
            "   fixed_acidity  volatile_acidity  citric_acid  residual_sugar  chlorides  \\\n",
            "0            7.4              0.70         0.00             1.9      0.076   \n",
            "1            7.8              0.88         0.00             2.6      0.098   \n",
            "2            7.8              0.76         0.04             2.3      0.092   \n",
            "3           11.2              0.28         0.56             1.9      0.075   \n",
            "4            7.4              0.70         0.00             1.9      0.076   \n",
            "\n",
            "   total_sulfur_dioxide  density    pH  sulphates  alcohol  quality  \n",
            "0                  34.0   0.9978  3.51       0.56      9.4        5  \n",
            "1                  67.0   0.9968  3.20       0.68      9.8        5  \n",
            "2                  54.0   0.9970  3.26       0.65      9.8        5  \n",
            "3                  60.0   0.9980  3.16       0.58      9.8        6  \n",
            "4                  34.0   0.9978  3.51       0.56      9.4        5  \n"
          ]
        }
      ]
    },
    {
      "cell_type": "code",
      "source": [
        "train_Xr, test_Xr, train_yr, test_yr = train_test_split(dfr_rest,dfr_target,test_size=.25,random_state=10)\n"
      ],
      "metadata": {
        "id": "Fp8qzhiexy7d"
      },
      "execution_count": 17,
      "outputs": []
    },
    {
      "cell_type": "markdown",
      "source": [
        "In order to determine which features can be used to best predict the quality of the wine, we will take a forward step refinement approach. We will identify the best features and add them one at a time."
      ],
      "metadata": {
        "id": "r0L42q_sxGad"
      }
    },
    {
      "cell_type": "code",
      "source": [
        "r_results = []\n",
        "f_results = []\n",
        "top = ['',0]\n",
        "features = dfr_rest.columns.drop('quality')\n",
        "for i in features:\n",
        "  model = smf.ols(formula = 'quality ~ '+i,data=train_Xr).fit()\n",
        "  if model.rsquared>top[1]:\n",
        "    top = [i, model.rsquared]\n",
        "\n",
        "r_results.append(top[1])\n",
        "f_results.append(top[0])\n",
        "print(top)\n",
        "print(r_results)"
      ],
      "metadata": {
        "id": "G7BTj7FZxujx",
        "colab": {
          "base_uri": "https://localhost:8080/",
          "height": 0
        },
        "outputId": "7b7640e8-a506-4404-990b-2c351e8e0ee9"
      },
      "execution_count": 18,
      "outputs": [
        {
          "output_type": "stream",
          "name": "stdout",
          "text": [
            "['alcohol', 0.2134579489526982]\n",
            "[0.2134579489526982]\n"
          ]
        }
      ]
    },
    {
      "cell_type": "markdown",
      "source": [
        "It appears alcohol was the top contender. Let's repeat this for another few features."
      ],
      "metadata": {
        "id": "Jb-jEbZ04C_f"
      }
    },
    {
      "cell_type": "code",
      "source": [
        "model2 = smf.ols(formula = 'quality ~ + alcohol',data=train_Xr).fit()\n",
        "model2.summary()"
      ],
      "metadata": {
        "colab": {
          "base_uri": "https://localhost:8080/",
          "height": 444
        },
        "id": "eeEvHQEey5pO",
        "outputId": "c42eb513-3525-4c34-ed9b-cab24cc55248"
      },
      "execution_count": 19,
      "outputs": [
        {
          "output_type": "execute_result",
          "data": {
            "text/plain": [
              "<class 'statsmodels.iolib.summary.Summary'>\n",
              "\"\"\"\n",
              "                            OLS Regression Results                            \n",
              "==============================================================================\n",
              "Dep. Variable:                quality   R-squared:                       0.213\n",
              "Model:                            OLS   Adj. R-squared:                  0.213\n",
              "Method:                 Least Squares   F-statistic:                     232.0\n",
              "Date:                Mon, 21 Aug 2023   Prob (F-statistic):           1.55e-46\n",
              "Time:                        22:45:19   Log-Likelihood:                -913.31\n",
              "No. Observations:                 857   AIC:                             1831.\n",
              "Df Residuals:                     855   BIC:                             1840.\n",
              "Df Model:                           1                                         \n",
              "Covariance Type:            nonrobust                                         \n",
              "==============================================================================\n",
              "                 coef    std err          t      P>|t|      [0.025      0.975]\n",
              "------------------------------------------------------------------------------\n",
              "Intercept      2.1488      0.231      9.305      0.000       1.696       2.602\n",
              "alcohol        0.3353      0.022     15.233      0.000       0.292       0.378\n",
              "==============================================================================\n",
              "Omnibus:                       16.944   Durbin-Watson:                   1.994\n",
              "Prob(Omnibus):                  0.000   Jarque-Bera (JB):               29.964\n",
              "Skew:                          -0.092   Prob(JB):                     3.11e-07\n",
              "Kurtosis:                       3.897   Cond. No.                         102.\n",
              "==============================================================================\n",
              "\n",
              "Notes:\n",
              "[1] Standard Errors assume that the covariance matrix of the errors is correctly specified.\n",
              "\"\"\""
            ],
            "text/html": [
              "<table class=\"simpletable\">\n",
              "<caption>OLS Regression Results</caption>\n",
              "<tr>\n",
              "  <th>Dep. Variable:</th>         <td>quality</td>     <th>  R-squared:         </th> <td>   0.213</td>\n",
              "</tr>\n",
              "<tr>\n",
              "  <th>Model:</th>                   <td>OLS</td>       <th>  Adj. R-squared:    </th> <td>   0.213</td>\n",
              "</tr>\n",
              "<tr>\n",
              "  <th>Method:</th>             <td>Least Squares</td>  <th>  F-statistic:       </th> <td>   232.0</td>\n",
              "</tr>\n",
              "<tr>\n",
              "  <th>Date:</th>             <td>Mon, 21 Aug 2023</td> <th>  Prob (F-statistic):</th> <td>1.55e-46</td>\n",
              "</tr>\n",
              "<tr>\n",
              "  <th>Time:</th>                 <td>22:45:19</td>     <th>  Log-Likelihood:    </th> <td> -913.31</td>\n",
              "</tr>\n",
              "<tr>\n",
              "  <th>No. Observations:</th>      <td>   857</td>      <th>  AIC:               </th> <td>   1831.</td>\n",
              "</tr>\n",
              "<tr>\n",
              "  <th>Df Residuals:</th>          <td>   855</td>      <th>  BIC:               </th> <td>   1840.</td>\n",
              "</tr>\n",
              "<tr>\n",
              "  <th>Df Model:</th>              <td>     1</td>      <th>                     </th>     <td> </td>   \n",
              "</tr>\n",
              "<tr>\n",
              "  <th>Covariance Type:</th>      <td>nonrobust</td>    <th>                     </th>     <td> </td>   \n",
              "</tr>\n",
              "</table>\n",
              "<table class=\"simpletable\">\n",
              "<tr>\n",
              "      <td></td>         <th>coef</th>     <th>std err</th>      <th>t</th>      <th>P>|t|</th>  <th>[0.025</th>    <th>0.975]</th>  \n",
              "</tr>\n",
              "<tr>\n",
              "  <th>Intercept</th> <td>    2.1488</td> <td>    0.231</td> <td>    9.305</td> <td> 0.000</td> <td>    1.696</td> <td>    2.602</td>\n",
              "</tr>\n",
              "<tr>\n",
              "  <th>alcohol</th>   <td>    0.3353</td> <td>    0.022</td> <td>   15.233</td> <td> 0.000</td> <td>    0.292</td> <td>    0.378</td>\n",
              "</tr>\n",
              "</table>\n",
              "<table class=\"simpletable\">\n",
              "<tr>\n",
              "  <th>Omnibus:</th>       <td>16.944</td> <th>  Durbin-Watson:     </th> <td>   1.994</td>\n",
              "</tr>\n",
              "<tr>\n",
              "  <th>Prob(Omnibus):</th> <td> 0.000</td> <th>  Jarque-Bera (JB):  </th> <td>  29.964</td>\n",
              "</tr>\n",
              "<tr>\n",
              "  <th>Skew:</th>          <td>-0.092</td> <th>  Prob(JB):          </th> <td>3.11e-07</td>\n",
              "</tr>\n",
              "<tr>\n",
              "  <th>Kurtosis:</th>      <td> 3.897</td> <th>  Cond. No.          </th> <td>    102.</td>\n",
              "</tr>\n",
              "</table><br/><br/>Notes:<br/>[1] Standard Errors assume that the covariance matrix of the errors is correctly specified."
            ],
            "text/latex": "\\begin{center}\n\\begin{tabular}{lclc}\n\\toprule\n\\textbf{Dep. Variable:}    &     quality      & \\textbf{  R-squared:         } &     0.213   \\\\\n\\textbf{Model:}            &       OLS        & \\textbf{  Adj. R-squared:    } &     0.213   \\\\\n\\textbf{Method:}           &  Least Squares   & \\textbf{  F-statistic:       } &     232.0   \\\\\n\\textbf{Date:}             & Mon, 21 Aug 2023 & \\textbf{  Prob (F-statistic):} &  1.55e-46   \\\\\n\\textbf{Time:}             &     22:45:19     & \\textbf{  Log-Likelihood:    } &   -913.31   \\\\\n\\textbf{No. Observations:} &         857      & \\textbf{  AIC:               } &     1831.   \\\\\n\\textbf{Df Residuals:}     &         855      & \\textbf{  BIC:               } &     1840.   \\\\\n\\textbf{Df Model:}         &           1      & \\textbf{                     } &             \\\\\n\\textbf{Covariance Type:}  &    nonrobust     & \\textbf{                     } &             \\\\\n\\bottomrule\n\\end{tabular}\n\\begin{tabular}{lcccccc}\n                   & \\textbf{coef} & \\textbf{std err} & \\textbf{t} & \\textbf{P$> |$t$|$} & \\textbf{[0.025} & \\textbf{0.975]}  \\\\\n\\midrule\n\\textbf{Intercept} &       2.1488  &        0.231     &     9.305  &         0.000        &        1.696    &        2.602     \\\\\n\\textbf{alcohol}   &       0.3353  &        0.022     &    15.233  &         0.000        &        0.292    &        0.378     \\\\\n\\bottomrule\n\\end{tabular}\n\\begin{tabular}{lclc}\n\\textbf{Omnibus:}       & 16.944 & \\textbf{  Durbin-Watson:     } &    1.994  \\\\\n\\textbf{Prob(Omnibus):} &  0.000 & \\textbf{  Jarque-Bera (JB):  } &   29.964  \\\\\n\\textbf{Skew:}          & -0.092 & \\textbf{  Prob(JB):          } & 3.11e-07  \\\\\n\\textbf{Kurtosis:}      &  3.897 & \\textbf{  Cond. No.          } &     102.  \\\\\n\\bottomrule\n\\end{tabular}\n%\\caption{OLS Regression Results}\n\\end{center}\n\nNotes: \\newline\n [1] Standard Errors assume that the covariance matrix of the errors is correctly specified."
          },
          "metadata": {},
          "execution_count": 19
        }
      ]
    },
    {
      "cell_type": "code",
      "source": [
        "top = ['',0]\n",
        "features = dfr_rest.columns.drop('quality','alcohol')\n",
        "for i in features:\n",
        "  model = smf.ols(formula = 'quality ~ alcohol + '+i,data=train_Xr).fit()\n",
        "  if model.rsquared>top[1]:\n",
        "    top = [i, model.rsquared]\n",
        "\n",
        "r_results.append(top[1])\n",
        "f_results.append(top[0])\n",
        "print(top)\n",
        "print(r_results)"
      ],
      "metadata": {
        "colab": {
          "base_uri": "https://localhost:8080/",
          "height": 0
        },
        "id": "DL8bPf2ky6wT",
        "outputId": "8982df1f-9a09-4af3-d784-846c572b58bf"
      },
      "execution_count": 20,
      "outputs": [
        {
          "output_type": "stream",
          "name": "stdout",
          "text": [
            "['volatile_acidity', 0.3135463907350601]\n",
            "[0.2134579489526982, 0.3135463907350601]\n"
          ]
        }
      ]
    },
    {
      "cell_type": "markdown",
      "source": [
        "Volatile Acidity was our next big winner. Let's keep going."
      ],
      "metadata": {
        "id": "ZTh7IEJy6Hn-"
      }
    },
    {
      "cell_type": "code",
      "source": [
        "top = ['',0]\n",
        "features = dfr_rest.columns.drop(['quality','alcohol','volatile_acidity'])\n",
        "for i in features:\n",
        "  model = smf.ols(formula = 'quality ~ alcohol + volatile_acidity + '+i,data=train_Xr).fit()\n",
        "  if model.rsquared>top[1]:\n",
        "    top = [i, model.rsquared]\n",
        "\n",
        "r_results.append(top[1])\n",
        "f_results.append(top[0])\n",
        "print(top)\n",
        "print(r_results)"
      ],
      "metadata": {
        "colab": {
          "base_uri": "https://localhost:8080/",
          "height": 0
        },
        "id": "S-0UboEP530Q",
        "outputId": "d477c139-5249-41a8-a383-b02a634c5502"
      },
      "execution_count": 21,
      "outputs": [
        {
          "output_type": "stream",
          "name": "stdout",
          "text": [
            "['sulphates', 0.3298495737100873]\n",
            "[0.2134579489526982, 0.3135463907350601, 0.3298495737100873]\n"
          ]
        }
      ]
    },
    {
      "cell_type": "markdown",
      "source": [
        "Sulphates in third!"
      ],
      "metadata": {
        "id": "RyWAMLr56lQA"
      }
    },
    {
      "cell_type": "code",
      "source": [
        "top = ['',0]\n",
        "features = dfr_rest.columns.drop(['quality','alcohol','volatile_acidity','sulphates'])\n",
        "for i in features:\n",
        "  model = smf.ols(formula = 'quality ~ alcohol + volatile_acidity + sulphates + '+i,data=train_Xr).fit()\n",
        "  if model.rsquared>top[1]:\n",
        "    top = [i, model.rsquared]\n",
        "\n",
        "r_results.append(top[1])\n",
        "f_results.append(top[0])\n",
        "print(top)\n",
        "print(r_results)"
      ],
      "metadata": {
        "colab": {
          "base_uri": "https://localhost:8080/",
          "height": 0
        },
        "id": "NJ5gocDG6cIK",
        "outputId": "09e9a0af-210e-4ac9-97a1-5d5fc170c6b6"
      },
      "execution_count": 22,
      "outputs": [
        {
          "output_type": "stream",
          "name": "stdout",
          "text": [
            "['total_sulfur_dioxide', 0.3412027962931078]\n",
            "[0.2134579489526982, 0.3135463907350601, 0.3298495737100873, 0.3412027962931078]\n"
          ]
        }
      ]
    },
    {
      "cell_type": "markdown",
      "source": [
        "Total Sulfur Dioxide!"
      ],
      "metadata": {
        "id": "Wga14-_B63Iw"
      }
    },
    {
      "cell_type": "code",
      "source": [
        "top = ['',0]\n",
        "features = dfr_rest.columns.drop(['quality','alcohol','volatile_acidity','sulphates','total_sulfur_dioxide'])\n",
        "for i in features:\n",
        "  model = smf.ols(formula = 'quality ~ alcohol + volatile_acidity + sulphates + total_sulfur_dioxide + '+i,data=train_Xr).fit()\n",
        "  if model.rsquared>top[1]:\n",
        "    top = [i, model.rsquared]\n",
        "\n",
        "r_results.append(top[1])\n",
        "f_results.append(top[0])\n",
        "print(top)\n",
        "print(r_results)"
      ],
      "metadata": {
        "colab": {
          "base_uri": "https://localhost:8080/",
          "height": 0
        },
        "id": "OoZxdsSx62qQ",
        "outputId": "d72d62ce-5cc9-4247-9848-a90778e48110"
      },
      "execution_count": 23,
      "outputs": [
        {
          "output_type": "stream",
          "name": "stdout",
          "text": [
            "['chlorides', 0.3470006811318965]\n",
            "[0.2134579489526982, 0.3135463907350601, 0.3298495737100873, 0.3412027962931078, 0.3470006811318965]\n"
          ]
        }
      ]
    },
    {
      "cell_type": "markdown",
      "source": [
        "Let's try one more for good measure."
      ],
      "metadata": {
        "id": "DjtWBj7480xX"
      }
    },
    {
      "cell_type": "code",
      "source": [
        "top = ['',0]\n",
        "features = dfr_rest.columns.drop(['quality','alcohol','volatile_acidity','sulphates','total_sulfur_dioxide','chlorides'])\n",
        "for i in features:\n",
        "  model = smf.ols(formula = 'quality ~ alcohol + volatile_acidity + sulphates + total_sulfur_dioxide + chlorides +'+i,data=train_Xr).fit()\n",
        "  if model.rsquared>top[1]:\n",
        "    top = [i, model.rsquared]\n",
        "\n",
        "r_results.append(top[1])\n",
        "f_results.append(top[0])\n",
        "print(top)\n",
        "print(r_results)"
      ],
      "metadata": {
        "colab": {
          "base_uri": "https://localhost:8080/",
          "height": 0
        },
        "id": "P3Z5S6Yi8OM2",
        "outputId": "dd24d3ca-3fd6-4129-c62a-b996ca107b85"
      },
      "execution_count": 24,
      "outputs": [
        {
          "output_type": "stream",
          "name": "stdout",
          "text": [
            "['pH', 0.3527016637022309]\n",
            "[0.2134579489526982, 0.3135463907350601, 0.3298495737100873, 0.3412027962931078, 0.3470006811318965, 0.3527016637022309]\n"
          ]
        }
      ]
    },
    {
      "cell_type": "markdown",
      "source": [
        "Now that we have our model trained, lets see how it does with the testing set."
      ],
      "metadata": {
        "id": "oxNARm5Y9MW-"
      }
    },
    {
      "cell_type": "code",
      "source": [
        "model_R = smf.ols(formula = 'quality ~ alcohol + volatile_acidity + sulphates + total_sulfur_dioxide + chlorides + pH',data=train_Xr).fit()\n",
        "model_R.summary()"
      ],
      "metadata": {
        "colab": {
          "base_uri": "https://localhost:8080/",
          "height": 583
        },
        "id": "eR58LMXe9RMR",
        "outputId": "be24da8a-db46-4814-e399-240288d4f237"
      },
      "execution_count": 25,
      "outputs": [
        {
          "output_type": "execute_result",
          "data": {
            "text/plain": [
              "<class 'statsmodels.iolib.summary.Summary'>\n",
              "\"\"\"\n",
              "                            OLS Regression Results                            \n",
              "==============================================================================\n",
              "Dep. Variable:                quality   R-squared:                       0.353\n",
              "Model:                            OLS   Adj. R-squared:                  0.348\n",
              "Method:                 Least Squares   F-statistic:                     77.19\n",
              "Date:                Mon, 21 Aug 2023   Prob (F-statistic):           5.98e-77\n",
              "Time:                        22:45:19   Log-Likelihood:                -829.82\n",
              "No. Observations:                 857   AIC:                             1674.\n",
              "Df Residuals:                     850   BIC:                             1707.\n",
              "Df Model:                           6                                         \n",
              "Covariance Type:            nonrobust                                         \n",
              "========================================================================================\n",
              "                           coef    std err          t      P>|t|      [0.025      0.975]\n",
              "----------------------------------------------------------------------------------------\n",
              "Intercept                4.5097      0.519      8.691      0.000       3.491       5.528\n",
              "alcohol                  0.2691      0.022     12.069      0.000       0.225       0.313\n",
              "volatile_acidity        -1.0829      0.136     -7.976      0.000      -1.349      -0.816\n",
              "sulphates                0.8513      0.156      5.462      0.000       0.545       1.157\n",
              "total_sulfur_dioxide    -0.0027      0.001     -3.943      0.000      -0.004      -0.001\n",
              "chlorides               -1.6825      0.512     -3.284      0.001      -2.688      -0.677\n",
              "pH                      -0.4168      0.152     -2.736      0.006      -0.716      -0.118\n",
              "==============================================================================\n",
              "Omnibus:                       19.536   Durbin-Watson:                   2.005\n",
              "Prob(Omnibus):                  0.000   Jarque-Bera (JB):               28.280\n",
              "Skew:                          -0.218   Prob(JB):                     7.23e-07\n",
              "Kurtosis:                       3.776   Cond. No.                     1.55e+03\n",
              "==============================================================================\n",
              "\n",
              "Notes:\n",
              "[1] Standard Errors assume that the covariance matrix of the errors is correctly specified.\n",
              "[2] The condition number is large, 1.55e+03. This might indicate that there are\n",
              "strong multicollinearity or other numerical problems.\n",
              "\"\"\""
            ],
            "text/html": [
              "<table class=\"simpletable\">\n",
              "<caption>OLS Regression Results</caption>\n",
              "<tr>\n",
              "  <th>Dep. Variable:</th>         <td>quality</td>     <th>  R-squared:         </th> <td>   0.353</td>\n",
              "</tr>\n",
              "<tr>\n",
              "  <th>Model:</th>                   <td>OLS</td>       <th>  Adj. R-squared:    </th> <td>   0.348</td>\n",
              "</tr>\n",
              "<tr>\n",
              "  <th>Method:</th>             <td>Least Squares</td>  <th>  F-statistic:       </th> <td>   77.19</td>\n",
              "</tr>\n",
              "<tr>\n",
              "  <th>Date:</th>             <td>Mon, 21 Aug 2023</td> <th>  Prob (F-statistic):</th> <td>5.98e-77</td>\n",
              "</tr>\n",
              "<tr>\n",
              "  <th>Time:</th>                 <td>22:45:19</td>     <th>  Log-Likelihood:    </th> <td> -829.82</td>\n",
              "</tr>\n",
              "<tr>\n",
              "  <th>No. Observations:</th>      <td>   857</td>      <th>  AIC:               </th> <td>   1674.</td>\n",
              "</tr>\n",
              "<tr>\n",
              "  <th>Df Residuals:</th>          <td>   850</td>      <th>  BIC:               </th> <td>   1707.</td>\n",
              "</tr>\n",
              "<tr>\n",
              "  <th>Df Model:</th>              <td>     6</td>      <th>                     </th>     <td> </td>   \n",
              "</tr>\n",
              "<tr>\n",
              "  <th>Covariance Type:</th>      <td>nonrobust</td>    <th>                     </th>     <td> </td>   \n",
              "</tr>\n",
              "</table>\n",
              "<table class=\"simpletable\">\n",
              "<tr>\n",
              "            <td></td>              <th>coef</th>     <th>std err</th>      <th>t</th>      <th>P>|t|</th>  <th>[0.025</th>    <th>0.975]</th>  \n",
              "</tr>\n",
              "<tr>\n",
              "  <th>Intercept</th>            <td>    4.5097</td> <td>    0.519</td> <td>    8.691</td> <td> 0.000</td> <td>    3.491</td> <td>    5.528</td>\n",
              "</tr>\n",
              "<tr>\n",
              "  <th>alcohol</th>              <td>    0.2691</td> <td>    0.022</td> <td>   12.069</td> <td> 0.000</td> <td>    0.225</td> <td>    0.313</td>\n",
              "</tr>\n",
              "<tr>\n",
              "  <th>volatile_acidity</th>     <td>   -1.0829</td> <td>    0.136</td> <td>   -7.976</td> <td> 0.000</td> <td>   -1.349</td> <td>   -0.816</td>\n",
              "</tr>\n",
              "<tr>\n",
              "  <th>sulphates</th>            <td>    0.8513</td> <td>    0.156</td> <td>    5.462</td> <td> 0.000</td> <td>    0.545</td> <td>    1.157</td>\n",
              "</tr>\n",
              "<tr>\n",
              "  <th>total_sulfur_dioxide</th> <td>   -0.0027</td> <td>    0.001</td> <td>   -3.943</td> <td> 0.000</td> <td>   -0.004</td> <td>   -0.001</td>\n",
              "</tr>\n",
              "<tr>\n",
              "  <th>chlorides</th>            <td>   -1.6825</td> <td>    0.512</td> <td>   -3.284</td> <td> 0.001</td> <td>   -2.688</td> <td>   -0.677</td>\n",
              "</tr>\n",
              "<tr>\n",
              "  <th>pH</th>                   <td>   -0.4168</td> <td>    0.152</td> <td>   -2.736</td> <td> 0.006</td> <td>   -0.716</td> <td>   -0.118</td>\n",
              "</tr>\n",
              "</table>\n",
              "<table class=\"simpletable\">\n",
              "<tr>\n",
              "  <th>Omnibus:</th>       <td>19.536</td> <th>  Durbin-Watson:     </th> <td>   2.005</td>\n",
              "</tr>\n",
              "<tr>\n",
              "  <th>Prob(Omnibus):</th> <td> 0.000</td> <th>  Jarque-Bera (JB):  </th> <td>  28.280</td>\n",
              "</tr>\n",
              "<tr>\n",
              "  <th>Skew:</th>          <td>-0.218</td> <th>  Prob(JB):          </th> <td>7.23e-07</td>\n",
              "</tr>\n",
              "<tr>\n",
              "  <th>Kurtosis:</th>      <td> 3.776</td> <th>  Cond. No.          </th> <td>1.55e+03</td>\n",
              "</tr>\n",
              "</table><br/><br/>Notes:<br/>[1] Standard Errors assume that the covariance matrix of the errors is correctly specified.<br/>[2] The condition number is large, 1.55e+03. This might indicate that there are<br/>strong multicollinearity or other numerical problems."
            ],
            "text/latex": "\\begin{center}\n\\begin{tabular}{lclc}\n\\toprule\n\\textbf{Dep. Variable:}         &     quality      & \\textbf{  R-squared:         } &     0.353   \\\\\n\\textbf{Model:}                 &       OLS        & \\textbf{  Adj. R-squared:    } &     0.348   \\\\\n\\textbf{Method:}                &  Least Squares   & \\textbf{  F-statistic:       } &     77.19   \\\\\n\\textbf{Date:}                  & Mon, 21 Aug 2023 & \\textbf{  Prob (F-statistic):} &  5.98e-77   \\\\\n\\textbf{Time:}                  &     22:45:19     & \\textbf{  Log-Likelihood:    } &   -829.82   \\\\\n\\textbf{No. Observations:}      &         857      & \\textbf{  AIC:               } &     1674.   \\\\\n\\textbf{Df Residuals:}          &         850      & \\textbf{  BIC:               } &     1707.   \\\\\n\\textbf{Df Model:}              &           6      & \\textbf{                     } &             \\\\\n\\textbf{Covariance Type:}       &    nonrobust     & \\textbf{                     } &             \\\\\n\\bottomrule\n\\end{tabular}\n\\begin{tabular}{lcccccc}\n                                & \\textbf{coef} & \\textbf{std err} & \\textbf{t} & \\textbf{P$> |$t$|$} & \\textbf{[0.025} & \\textbf{0.975]}  \\\\\n\\midrule\n\\textbf{Intercept}              &       4.5097  &        0.519     &     8.691  &         0.000        &        3.491    &        5.528     \\\\\n\\textbf{alcohol}                &       0.2691  &        0.022     &    12.069  &         0.000        &        0.225    &        0.313     \\\\\n\\textbf{volatile\\_acidity}      &      -1.0829  &        0.136     &    -7.976  &         0.000        &       -1.349    &       -0.816     \\\\\n\\textbf{sulphates}              &       0.8513  &        0.156     &     5.462  &         0.000        &        0.545    &        1.157     \\\\\n\\textbf{total\\_sulfur\\_dioxide} &      -0.0027  &        0.001     &    -3.943  &         0.000        &       -0.004    &       -0.001     \\\\\n\\textbf{chlorides}              &      -1.6825  &        0.512     &    -3.284  &         0.001        &       -2.688    &       -0.677     \\\\\n\\textbf{pH}                     &      -0.4168  &        0.152     &    -2.736  &         0.006        &       -0.716    &       -0.118     \\\\\n\\bottomrule\n\\end{tabular}\n\\begin{tabular}{lclc}\n\\textbf{Omnibus:}       & 19.536 & \\textbf{  Durbin-Watson:     } &    2.005  \\\\\n\\textbf{Prob(Omnibus):} &  0.000 & \\textbf{  Jarque-Bera (JB):  } &   28.280  \\\\\n\\textbf{Skew:}          & -0.218 & \\textbf{  Prob(JB):          } & 7.23e-07  \\\\\n\\textbf{Kurtosis:}      &  3.776 & \\textbf{  Cond. No.          } & 1.55e+03  \\\\\n\\bottomrule\n\\end{tabular}\n%\\caption{OLS Regression Results}\n\\end{center}\n\nNotes: \\newline\n [1] Standard Errors assume that the covariance matrix of the errors is correctly specified. \\newline\n [2] The condition number is large, 1.55e+03. This might indicate that there are \\newline\n strong multicollinearity or other numerical problems."
          },
          "metadata": {},
          "execution_count": 25
        }
      ]
    },
    {
      "cell_type": "code",
      "source": [
        "sns.lineplot(r_results)\n",
        "plt.xlabel('Number of Features')\n",
        "plt.xticks([0,1,2,3,4,5], labels = f_results,rotation='vertical')\n",
        "plt.ylabel('R Value')\n",
        "plt.title('Wine Quality R Values')\n",
        "plt.show()"
      ],
      "metadata": {
        "colab": {
          "base_uri": "https://localhost:8080/",
          "height": 593
        },
        "id": "kZCEFqy8A4iP",
        "outputId": "fc57ec31-cb37-4e69-e3a4-06c8c964fcd8"
      },
      "execution_count": 40,
      "outputs": [
        {
          "output_type": "display_data",
          "data": {
            "text/plain": [
              "<Figure size 640x480 with 1 Axes>"
            ],
            "image/png": "[encoded data removed]"
          },
          "metadata": {}
        }
      ]
    },
    {
      "cell_type": "code",
      "source": [
        "f_results"
      ],
      "metadata": {
        "colab": {
          "base_uri": "https://localhost:8080/",
          "height": 0
        },
        "id": "rNIMyKeABz6_",
        "outputId": "7012f681-c4ba-4ccf-8880-1c4312d15850"
      },
      "execution_count": 27,
      "outputs": [
        {
          "output_type": "execute_result",
          "data": {
            "text/plain": [
              "['alcohol',\n",
              " 'volatile_acidity',\n",
              " 'sulphates',\n",
              " 'total_sulfur_dioxide',\n",
              " 'chlorides',\n",
              " 'pH']"
            ]
          },
          "metadata": {},
          "execution_count": 27
        }
      ]
    },
    {
      "cell_type": "code",
      "source": [
        "df2.corr()['quality'].drop('quality')"
      ],
      "metadata": {
        "colab": {
          "base_uri": "https://localhost:8080/",
          "height": 0
        },
        "id": "F2AiCzFU6zEl",
        "outputId": "646b1441-1a0b-440c-ad64-576e287275d3"
      },
      "execution_count": 28,
      "outputs": [
        {
          "output_type": "execute_result",
          "data": {
            "text/plain": [
              "fixed_acidity           0.121970\n",
              "volatile_acidity       -0.407394\n",
              "citric_acid             0.240821\n",
              "residual_sugar          0.022002\n",
              "chlorides              -0.124085\n",
              "total_sulfur_dioxide   -0.183339\n",
              "density                -0.175208\n",
              "pH                     -0.052453\n",
              "sulphates               0.257710\n",
              "alcohol                 0.484866\n",
              "Name: quality, dtype: float64"
            ]
          },
          "metadata": {},
          "execution_count": 28
        }
      ]
    },
    {
      "cell_type": "code",
      "source": [],
      "metadata": {
        "id": "ZoAUjNar8BWu"
      },
      "execution_count": 28,
      "outputs": []
    },
    {
      "cell_type": "markdown",
      "source": [
        "# The Classification Model"
      ],
      "metadata": {
        "id": "1yViZisnDT7O"
      }
    },
    {
      "cell_type": "markdown",
      "source": [
        "In order to create classification model, let’s divide the quality feature into a good/bad formant. First, let's check the distribution and stats."
      ],
      "metadata": {
        "id": "rKiH4S7HDrMA"
      }
    },
    {
      "cell_type": "code",
      "source": [
        "df2['quality'].hist(bins=10, figsize=(5, 5))\n",
        "plt.xlabel('Quality Feature')\n",
        "plt.show()"
      ],
      "metadata": {
        "colab": {
          "base_uri": "https://localhost:8080/",
          "height": 465
        },
        "id": "s5xbX5GPDruU",
        "outputId": "e8897838-9d71-48f4-9bed-5367e9432440"
      },
      "execution_count": 29,
      "outputs": [
        {
          "output_type": "display_data",
          "data": {
            "text/plain": [
              "<Figure size 500x500 with 1 Axes>"
            ],
            "image/png": "[encoded data removed]"
          },
          "metadata": {}
        }
      ]
    },
    {
      "cell_type": "code",
      "source": [
        "df2['quality'].describe()"
      ],
      "metadata": {
        "colab": {
          "base_uri": "https://localhost:8080/",
          "height": 0
        },
        "id": "iaRlbKOmEFsZ",
        "outputId": "2dbdcd3d-fa1b-460b-c1a7-1b63395d572c"
      },
      "execution_count": 30,
      "outputs": [
        {
          "output_type": "execute_result",
          "data": {
            "text/plain": [
              "count    1143.000000\n",
              "mean        5.657043\n",
              "std         0.805824\n",
              "min         3.000000\n",
              "25%         5.000000\n",
              "50%         6.000000\n",
              "75%         6.000000\n",
              "max         8.000000\n",
              "Name: quality, dtype: float64"
            ]
          },
          "metadata": {},
          "execution_count": 30
        }
      ]
    },
    {
      "cell_type": "markdown",
      "source": [
        "Now that we have an idea of how the quality feature is spread. Let's divided it into two groups. One above the 5 score and those below it. Are 1's will be our good quality and the 0's our not so good"
      ],
      "metadata": {
        "id": "0vL69lyWF4BP"
      }
    },
    {
      "cell_type": "code",
      "source": [
        "df2['quality_class'] = [1 if x > 5 else 0 for x in df2.quality]"
      ],
      "metadata": {
        "id": "RAgfNlTmEcCj"
      },
      "execution_count": 31,
      "outputs": []
    },
    {
      "cell_type": "code",
      "source": [
        "df2['quality_class'].value_counts()\n"
      ],
      "metadata": {
        "colab": {
          "base_uri": "https://localhost:8080/",
          "height": 0
        },
        "id": "uNpKaU3HE2my",
        "outputId": "aaff1456-205f-4a4b-a5f2-2c11ba5a60fe"
      },
      "execution_count": 32,
      "outputs": [
        {
          "output_type": "execute_result",
          "data": {
            "text/plain": [
              "1    621\n",
              "0    522\n",
              "Name: quality_class, dtype: int64"
            ]
          },
          "metadata": {},
          "execution_count": 32
        }
      ]
    },
    {
      "cell_type": "code",
      "source": [
        "df2['quality_class'].hist( figsize=(5, 5))\n",
        "plt.xlabel('Quality Class Feature')\n",
        "plt.xticks([0,1])\n",
        "plt.show()"
      ],
      "metadata": {
        "colab": {
          "base_uri": "https://localhost:8080/",
          "height": 465
        },
        "id": "EKiA-cMyE4Tw",
        "outputId": "023047de-7ddd-4055-a89c-a23ed2a8aa8c"
      },
      "execution_count": 33,
      "outputs": [
        {
          "output_type": "display_data",
          "data": {
            "text/plain": [
              "<Figure size 500x500 with 1 Axes>"
            ],
            "image/png": "[encoded data removed]"
          },
          "metadata": {}
        }
      ]
    },
    {
      "cell_type": "markdown",
      "source": [
        "Now that's we've seen how our good and bad qualities have been broked down. Lets build our model. First we must split the data."
      ],
      "metadata": {
        "id": "iAn75120GSev"
      }
    },
    {
      "cell_type": "code",
      "source": [
        "features = df2.drop(['quality', 'quality_class'], axis=1)\n",
        "target_c = df2['quality_class']\n",
        "\n",
        "train_Xc, test_Xc, train_yc, test_yc = train_test_split(features, target_c, test_size=0.5, random_state=10)"
      ],
      "metadata": {
        "id": "VaA2dGIyFEwe"
      },
      "execution_count": 34,
      "outputs": []
    },
    {
      "cell_type": "markdown",
      "source": [
        "We can normalize the data sets."
      ],
      "metadata": {
        "id": "RnMpcFrXHBUE"
      }
    },
    {
      "cell_type": "code",
      "source": [
        "norm = MinMaxScaler()\n",
        "xtrain = norm.fit_transform(train_Xc)\n",
        "xtest = norm.transform(test_Xc)"
      ],
      "metadata": {
        "id": "zdMwr6G1G7lC"
      },
      "execution_count": 35,
      "outputs": []
    },
    {
      "cell_type": "code",
      "source": [
        "model_c = LogisticRegression(solver='liblinear').fit(train_Xc,train_yc)"
      ],
      "metadata": {
        "id": "2y5UBjlCHHru"
      },
      "execution_count": 36,
      "outputs": []
    },
    {
      "cell_type": "code",
      "source": [
        "ypp = model_c.predict_proba(test_Xc)\n",
        "fpr,tpr,th = metrics.roc_curve(test_yc,ypp[:,1])\n",
        "auc = metrics.roc_auc_score(test_yc,ypp[:,1])\n",
        "precision = metrics.precision_score(test_yc, model_c.predict(test_Xc))\n",
        "recall = metrics.recall_score(test_yc, model_c.predict(test_Xc))\n",
        "accuracy = metrics.accuracy_score(test_yc, model_c.predict(test_Xc))\n",
        "metrics.classification_report(test_yc, model_c.predict(test_Xc))\n",
        "print('Presicion: ',precision)\n",
        "print('Recall: ',recall)\n",
        "print('Accuracy: ',accuracy)\n",
        "print('ROC AUC: ',auc)\n"
      ],
      "metadata": {
        "colab": {
          "base_uri": "https://localhost:8080/",
          "height": 0
        },
        "id": "GzSsukgBHlI5",
        "outputId": "d0c39744-d2a6-485b-ae4a-8f550667db5f"
      },
      "execution_count": 54,
      "outputs": [
        {
          "output_type": "stream",
          "name": "stdout",
          "text": [
            "Presicion:  0.8096774193548387\n",
            "Recall:  0.7943037974683544\n",
            "Accuracy:  0.7832167832167832\n",
            "ROC AUC:  0.8406472507911393\n"
          ]
        }
      ]
    },
    {
      "cell_type": "code",
      "source": [
        "matrix = metrics.confusion_matrix(test_yc, model_c.predict(test_Xc))\n",
        "disp = metrics.ConfusionMatrixDisplay(matrix)\n",
        "disp.plot()\n",
        "plt.xlabel('Predicted')\n",
        "plt.ylabel('True')\n",
        "plt.title('Confusion Matrix')\n",
        "plt.xticks([0,1], labels = ['Bad','Good'])\n",
        "plt.yticks([0,1], labels = ['Bad','Good'])\n",
        "plt.show()"
      ],
      "metadata": {
        "colab": {
          "base_uri": "https://localhost:8080/",
          "height": 472
        },
        "id": "F5b9je9YLWyX",
        "outputId": "242554a5-ea0c-4915-8a3e-0d9c19842ccc"
      },
      "execution_count": 38,
      "outputs": [
        {
          "output_type": "display_data",
          "data": {
            "text/plain": [
              "<Figure size 640x480 with 2 Axes>"
            ],
            "image/png": "[encoded data removed]"
          },
          "metadata": {}
        }
      ]
    },
    {
      "cell_type": "code",
      "source": [
        "plt.plot(fpr,tpr,'k-')\n",
        "plt.plot(np.arange(0,1.1,0.1),np.arange(0,1.1,0.1),'r--')\n",
        "plt.title('ROC Curve AUC=0.841')\n",
        "plt.xlabel('FPR')\n",
        "plt.ylabel('TPR')"
      ],
      "metadata": {
        "colab": {
          "base_uri": "https://localhost:8080/",
          "height": 489
        },
        "id": "wYS4gNmzInEY",
        "outputId": "cc982614-e251-4803-8e6e-eb7775d03a58"
      },
      "execution_count": 39,
      "outputs": [
        {
          "output_type": "execute_result",
          "data": {
            "text/plain": [
              "Text(0, 0.5, 'TPR')"
            ]
          },
          "metadata": {},
          "execution_count": 39
        },
        {
          "output_type": "display_data",
          "data": {
            "text/plain": [
              "<Figure size 640x480 with 1 Axes>"
            ],
            "image/png": "[encoded data removed]"
          },
          "metadata": {}
        }
      ]
    },
    {
      "cell_type": "markdown",
      "source": [
        "# Results\n"
      ],
      "metadata": {
        "id": "2ocQ5DidSg8H"
      }
    },
    {
      "cell_type": "markdown",
      "source": [
        "OLS Regression Model:"
      ],
      "metadata": {
        "id": "OpAfdvMWS4y0"
      }
    },
    {
      "cell_type": "code",
      "source": [
        "model2 = smf.ols(formula = 'quality ~ + alcohol',data=train_Xr).fit()\n",
        "model2.summary()"
      ],
      "metadata": {
        "colab": {
          "base_uri": "https://localhost:8080/",
          "height": 444
        },
        "id": "nF_TbY_GS-Ia",
        "outputId": "2330ee8c-316d-4822-e3b7-152b519fa35d"
      },
      "execution_count": 41,
      "outputs": [
        {
          "output_type": "execute_result",
          "data": {
            "text/plain": [
              "<class 'statsmodels.iolib.summary.Summary'>\n",
              "\"\"\"\n",
              "                            OLS Regression Results                            \n",
              "==============================================================================\n",
              "Dep. Variable:                quality   R-squared:                       0.213\n",
              "Model:                            OLS   Adj. R-squared:                  0.213\n",
              "Method:                 Least Squares   F-statistic:                     232.0\n",
              "Date:                Mon, 21 Aug 2023   Prob (F-statistic):           1.55e-46\n",
              "Time:                        22:51:36   Log-Likelihood:                -913.31\n",
              "No. Observations:                 857   AIC:                             1831.\n",
              "Df Residuals:                     855   BIC:                             1840.\n",
              "Df Model:                           1                                         \n",
              "Covariance Type:            nonrobust                                         \n",
              "==============================================================================\n",
              "                 coef    std err          t      P>|t|      [0.025      0.975]\n",
              "------------------------------------------------------------------------------\n",
              "Intercept      2.1488      0.231      9.305      0.000       1.696       2.602\n",
              "alcohol        0.3353      0.022     15.233      0.000       0.292       0.378\n",
              "==============================================================================\n",
              "Omnibus:                       16.944   Durbin-Watson:                   1.994\n",
              "Prob(Omnibus):                  0.000   Jarque-Bera (JB):               29.964\n",
              "Skew:                          -0.092   Prob(JB):                     3.11e-07\n",
              "Kurtosis:                       3.897   Cond. No.                         102.\n",
              "==============================================================================\n",
              "\n",
              "Notes:\n",
              "[1] Standard Errors assume that the covariance matrix of the errors is correctly specified.\n",
              "\"\"\""
            ],
            "text/html": [
              "<table class=\"simpletable\">\n",
              "<caption>OLS Regression Results</caption>\n",
              "<tr>\n",
              "  <th>Dep. Variable:</th>         <td>quality</td>     <th>  R-squared:         </th> <td>   0.213</td>\n",
              "</tr>\n",
              "<tr>\n",
              "  <th>Model:</th>                   <td>OLS</td>       <th>  Adj. R-squared:    </th> <td>   0.213</td>\n",
              "</tr>\n",
              "<tr>\n",
              "  <th>Method:</th>             <td>Least Squares</td>  <th>  F-statistic:       </th> <td>   232.0</td>\n",
              "</tr>\n",
              "<tr>\n",
              "  <th>Date:</th>             <td>Mon, 21 Aug 2023</td> <th>  Prob (F-statistic):</th> <td>1.55e-46</td>\n",
              "</tr>\n",
              "<tr>\n",
              "  <th>Time:</th>                 <td>22:51:36</td>     <th>  Log-Likelihood:    </th> <td> -913.31</td>\n",
              "</tr>\n",
              "<tr>\n",
              "  <th>No. Observations:</th>      <td>   857</td>      <th>  AIC:               </th> <td>   1831.</td>\n",
              "</tr>\n",
              "<tr>\n",
              "  <th>Df Residuals:</th>          <td>   855</td>      <th>  BIC:               </th> <td>   1840.</td>\n",
              "</tr>\n",
              "<tr>\n",
              "  <th>Df Model:</th>              <td>     1</td>      <th>                     </th>     <td> </td>   \n",
              "</tr>\n",
              "<tr>\n",
              "  <th>Covariance Type:</th>      <td>nonrobust</td>    <th>                     </th>     <td> </td>   \n",
              "</tr>\n",
              "</table>\n",
              "<table class=\"simpletable\">\n",
              "<tr>\n",
              "      <td></td>         <th>coef</th>     <th>std err</th>      <th>t</th>      <th>P>|t|</th>  <th>[0.025</th>    <th>0.975]</th>  \n",
              "</tr>\n",
              "<tr>\n",
              "  <th>Intercept</th> <td>    2.1488</td> <td>    0.231</td> <td>    9.305</td> <td> 0.000</td> <td>    1.696</td> <td>    2.602</td>\n",
              "</tr>\n",
              "<tr>\n",
              "  <th>alcohol</th>   <td>    0.3353</td> <td>    0.022</td> <td>   15.233</td> <td> 0.000</td> <td>    0.292</td> <td>    0.378</td>\n",
              "</tr>\n",
              "</table>\n",
              "<table class=\"simpletable\">\n",
              "<tr>\n",
              "  <th>Omnibus:</th>       <td>16.944</td> <th>  Durbin-Watson:     </th> <td>   1.994</td>\n",
              "</tr>\n",
              "<tr>\n",
              "  <th>Prob(Omnibus):</th> <td> 0.000</td> <th>  Jarque-Bera (JB):  </th> <td>  29.964</td>\n",
              "</tr>\n",
              "<tr>\n",
              "  <th>Skew:</th>          <td>-0.092</td> <th>  Prob(JB):          </th> <td>3.11e-07</td>\n",
              "</tr>\n",
              "<tr>\n",
              "  <th>Kurtosis:</th>      <td> 3.897</td> <th>  Cond. No.          </th> <td>    102.</td>\n",
              "</tr>\n",
              "</table><br/><br/>Notes:<br/>[1] Standard Errors assume that the covariance matrix of the errors is correctly specified."
            ],
            "text/latex": "\\begin{center}\n\\begin{tabular}{lclc}\n\\toprule\n\\textbf{Dep. Variable:}    &     quality      & \\textbf{  R-squared:         } &     0.213   \\\\\n\\textbf{Model:}            &       OLS        & \\textbf{  Adj. R-squared:    } &     0.213   \\\\\n\\textbf{Method:}           &  Least Squares   & \\textbf{  F-statistic:       } &     232.0   \\\\\n\\textbf{Date:}             & Mon, 21 Aug 2023 & \\textbf{  Prob (F-statistic):} &  1.55e-46   \\\\\n\\textbf{Time:}             &     22:51:36     & \\textbf{  Log-Likelihood:    } &   -913.31   \\\\\n\\textbf{No. Observations:} &         857      & \\textbf{  AIC:               } &     1831.   \\\\\n\\textbf{Df Residuals:}     &         855      & \\textbf{  BIC:               } &     1840.   \\\\\n\\textbf{Df Model:}         &           1      & \\textbf{                     } &             \\\\\n\\textbf{Covariance Type:}  &    nonrobust     & \\textbf{                     } &             \\\\\n\\bottomrule\n\\end{tabular}\n\\begin{tabular}{lcccccc}\n                   & \\textbf{coef} & \\textbf{std err} & \\textbf{t} & \\textbf{P$> |$t$|$} & \\textbf{[0.025} & \\textbf{0.975]}  \\\\\n\\midrule\n\\textbf{Intercept} &       2.1488  &        0.231     &     9.305  &         0.000        &        1.696    &        2.602     \\\\\n\\textbf{alcohol}   &       0.3353  &        0.022     &    15.233  &         0.000        &        0.292    &        0.378     \\\\\n\\bottomrule\n\\end{tabular}\n\\begin{tabular}{lclc}\n\\textbf{Omnibus:}       & 16.944 & \\textbf{  Durbin-Watson:     } &    1.994  \\\\\n\\textbf{Prob(Omnibus):} &  0.000 & \\textbf{  Jarque-Bera (JB):  } &   29.964  \\\\\n\\textbf{Skew:}          & -0.092 & \\textbf{  Prob(JB):          } & 3.11e-07  \\\\\n\\textbf{Kurtosis:}      &  3.897 & \\textbf{  Cond. No.          } &     102.  \\\\\n\\bottomrule\n\\end{tabular}\n%\\caption{OLS Regression Results}\n\\end{center}\n\nNotes: \\newline\n [1] Standard Errors assume that the covariance matrix of the errors is correctly specified."
          },
          "metadata": {},
          "execution_count": 41
        }
      ]
    },
    {
      "cell_type": "markdown",
      "source": [
        "The Ordinary Least Squares linear regression model was created using a forward step refinement approach. The regression model comprised of six features: alcohol, volatile_acidity, sulphates, total_sulfur_dioxide, chlorides, and pH. The target feature was quality. The R value for the first  step in the refinement approach was .21. It increased through the addition of the next five features to .34.\n",
        "This final R score indicates that the model is not significant regression model in predicting the quality of wine.\n"
      ],
      "metadata": {
        "id": "daOkN_7ISkyn"
      }
    },
    {
      "cell_type": "markdown",
      "source": [
        "Logistic Regression Classification Model"
      ],
      "metadata": {
        "id": "KZb_wGiTTC-n"
      }
    },
    {
      "cell_type": "code",
      "source": [
        "print('Presicion: ',precision)\n",
        "print('Recall: ',recall)\n",
        "print('Accuracy: ',accuracy)\n",
        "print('ROC AUC: ',auc)"
      ],
      "metadata": {
        "colab": {
          "base_uri": "https://localhost:8080/",
          "height": 0
        },
        "id": "s3vP1bfdTOm7",
        "outputId": "cd1c7811-cb55-42f3-a55c-5c7d8f33cfcf"
      },
      "execution_count": 50,
      "outputs": [
        {
          "output_type": "stream",
          "name": "stdout",
          "text": [
            "Presicion:  0.8096774193548387\n",
            "Recall:  0.7943037974683544\n",
            "Accuracy:  0.7832167832167832\n",
            "ROC AUC:  0.8406472507911393\n"
          ]
        }
      ]
    },
    {
      "cell_type": "markdown",
      "source": [
        "The Logistic Regression classification model was created and used to predict the class quality feature in the wine quality data set. Once the model was fitted and used to predict the class it resulted in 251 true positives, 197 true negatives, 59 false positives, and 65 false negatives. The precision score of the model was 0.809. The recall score was .0794. The accuracy score was 0.783. The Area under the Curve Receiver Operating Characteristic was 0.841."
      ],
      "metadata": {
        "id": "UK_WJcN1WOlK"
      }
    },
    {
      "cell_type": "markdown",
      "source": [
        "# Conclusion"
      ],
      "metadata": {
        "id": "jsA1JsauSlfx"
      }
    },
    {
      "cell_type": "markdown",
      "source": [
        "The OLS linear regression model did not perform well. It was not a good predictor of the quality of the wine. When looking at the correlation matrix before building the curve, I noticed there were not any strong correlations between the quality of the wine and the other features. Even though this is not a clear indication that the model would not perform, it does seem to be that way. Interestingly, when looking at the best predictor order that the forward step refinement process, it did select those features with a larger, absolute, correlation.\n",
        "\n",
        "\n",
        ">\n",
        "\n",
        "\n",
        "The Logistic Regression classification model performed well. It was able to identify the correct category of good or bad wine about 78% of the time. The number of false positives and false negatives were about the same. Depending on the person using this model, they may want to adjust the model to have lean one way or the other.\n",
        "\n",
        ">\n",
        "\n",
        "\n",
        "When comparing the two models, I would choose the classification model. By breaking the quality feature into two parts for the classification process, it limits the nuance that the linear regression model could have predicted had it performed better.\n"
      ],
      "metadata": {
        "id": "vZeqUt5FdxL2"
      }
    },
    {
      "cell_type": "code",
      "source": [],
      "metadata": {
        "id": "w7si7xzSdznI"
      },
      "execution_count": null,
      "outputs": []
    }
  ]
}